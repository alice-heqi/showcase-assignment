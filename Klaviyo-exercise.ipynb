{
 "cells": [
  {
   "cell_type": "code",
   "execution_count": 1,
   "metadata": {
    "colab": {
     "base_uri": "https://localhost:8080/",
     "height": 72
    },
    "id": "G0gL87568Tom",
    "outputId": "354093ca-b798-481d-8439-82acf01208ee"
   },
   "outputs": [],
   "source": [
    "import pandas as pd\n",
    "import numpy as np\n",
    "import matplotlib.pyplot as plt\n",
    "import seaborn as sns"
   ]
  },
  {
   "cell_type": "code",
   "execution_count": 2,
   "metadata": {
    "id": "e2akn8Fe8xMU"
   },
   "outputs": [],
   "source": [
    "# read data and get initial impression\n",
    "data=pd.read_csv('screening_exercise_orders_v201810.csv')"
   ]
  },
  {
   "cell_type": "code",
   "execution_count": 3,
   "metadata": {
    "colab": {
     "base_uri": "https://localhost:8080/",
     "height": 228
    },
    "id": "eYvbKLWQ9Ug-",
    "outputId": "c1b545a0-759a-44af-f6ec-a0774b607867"
   },
   "outputs": [
    {
     "data": {
      "text/html": [
       "<div>\n",
       "<style scoped>\n",
       "    .dataframe tbody tr th:only-of-type {\n",
       "        vertical-align: middle;\n",
       "    }\n",
       "\n",
       "    .dataframe tbody tr th {\n",
       "        vertical-align: top;\n",
       "    }\n",
       "\n",
       "    .dataframe thead th {\n",
       "        text-align: right;\n",
       "    }\n",
       "</style>\n",
       "<table border=\"1\" class=\"dataframe\">\n",
       "  <thead>\n",
       "    <tr style=\"text-align: right;\">\n",
       "      <th></th>\n",
       "      <th>customer_id</th>\n",
       "      <th>gender</th>\n",
       "      <th>date</th>\n",
       "      <th>value</th>\n",
       "      <th>predicted_gender</th>\n",
       "    </tr>\n",
       "  </thead>\n",
       "  <tbody>\n",
       "    <tr>\n",
       "      <th>0</th>\n",
       "      <td>1000</td>\n",
       "      <td>0</td>\n",
       "      <td>2017-01-01 00:11:31</td>\n",
       "      <td>198.5</td>\n",
       "      <td>1</td>\n",
       "    </tr>\n",
       "    <tr>\n",
       "      <th>1</th>\n",
       "      <td>1001</td>\n",
       "      <td>0</td>\n",
       "      <td>2017-01-01 00:29:56</td>\n",
       "      <td>338.0</td>\n",
       "      <td>1</td>\n",
       "    </tr>\n",
       "    <tr>\n",
       "      <th>2</th>\n",
       "      <td>1002</td>\n",
       "      <td>1</td>\n",
       "      <td>2017-01-01 01:30:31</td>\n",
       "      <td>733.0</td>\n",
       "      <td>1</td>\n",
       "    </tr>\n",
       "    <tr>\n",
       "      <th>3</th>\n",
       "      <td>1003</td>\n",
       "      <td>1</td>\n",
       "      <td>2017-01-01 01:34:22</td>\n",
       "      <td>772.0</td>\n",
       "      <td>1</td>\n",
       "    </tr>\n",
       "    <tr>\n",
       "      <th>4</th>\n",
       "      <td>1004</td>\n",
       "      <td>0</td>\n",
       "      <td>2017-01-01 03:11:54</td>\n",
       "      <td>508.0</td>\n",
       "      <td>1</td>\n",
       "    </tr>\n",
       "  </tbody>\n",
       "</table>\n",
       "</div>"
      ],
      "text/plain": [
       "   customer_id  gender                 date  value  predicted_gender\n",
       "0         1000       0  2017-01-01 00:11:31  198.5                 1\n",
       "1         1001       0  2017-01-01 00:29:56  338.0                 1\n",
       "2         1002       1  2017-01-01 01:30:31  733.0                 1\n",
       "3         1003       1  2017-01-01 01:34:22  772.0                 1\n",
       "4         1004       0  2017-01-01 03:11:54  508.0                 1"
      ]
     },
     "execution_count": 3,
     "metadata": {},
     "output_type": "execute_result"
    }
   ],
   "source": [
    "data.head()"
   ]
  },
  {
   "cell_type": "code",
   "execution_count": 4,
   "metadata": {
    "colab": {
     "base_uri": "https://localhost:8080/",
     "height": 248
    },
    "id": "UiRGpi6l-W9u",
    "outputId": "0ca53853-a748-4113-dd53-dcc44b889d30"
   },
   "outputs": [
    {
     "name": "stdout",
     "output_type": "stream",
     "text": [
      "<class 'pandas.core.frame.DataFrame'>\n",
      "RangeIndex: 13471 entries, 0 to 13470\n",
      "Data columns (total 5 columns):\n",
      " #   Column            Non-Null Count  Dtype  \n",
      "---  ------            --------------  -----  \n",
      " 0   customer_id       13471 non-null  int64  \n",
      " 1   gender            13471 non-null  int64  \n",
      " 2   date              13471 non-null  object \n",
      " 3   value             13471 non-null  float64\n",
      " 4   predicted_gender  13471 non-null  int64  \n",
      "dtypes: float64(1), int64(3), object(1)\n",
      "memory usage: 526.3+ KB\n"
     ]
    }
   ],
   "source": [
    "data.info()"
   ]
  },
  {
   "cell_type": "code",
   "execution_count": 5,
   "metadata": {
    "colab": {
     "base_uri": "https://localhost:8080/",
     "height": 55
    },
    "id": "lJyr6jcU_RbC",
    "outputId": "0407a6ba-3e59-4553-a210-dbf061df25b3"
   },
   "outputs": [
    {
     "data": {
      "text/plain": [
       "8814"
      ]
     },
     "execution_count": 5,
     "metadata": {},
     "output_type": "execute_result"
    }
   ],
   "source": [
    "data['customer_id'].nunique()"
   ]
  },
  {
   "cell_type": "markdown",
   "metadata": {
    "id": "0odtOj7f9W2y"
   },
   "source": [
    "### A) Assemble a dataframe with one row per customer and the following columns:\n",
    "\n",
    "### * customer_id * gender * most_recent_order_date * order_count (number of orders placed by this customer)\n",
    "\n",
    "### Sort the dataframe by customer_id ascending and display the first 10 rows."
   ]
  },
  {
   "cell_type": "code",
   "execution_count": 6,
   "metadata": {
    "id": "kOvZjKmYafxA"
   },
   "outputs": [],
   "source": [
    "# Step-1: to assemble the request dataframe, I will aggregate the result on 'customer' and 'gender'.\n",
    "# According to this exercise' statement, \"gender\" is the true gender for each customer, \n",
    "# so each \"customer-gender\" pair should be uniformed for return customers. \n",
    "# But I need double check before I can 'groupby' on each pair."
   ]
  },
  {
   "cell_type": "code",
   "execution_count": 68,
   "metadata": {},
   "outputs": [],
   "source": [
    "check_table=data.loc[:,['customer_id','gender']]\n",
    "check_table=check_table.sort_values(by=['customer_id'])"
   ]
  },
  {
   "cell_type": "code",
   "execution_count": 69,
   "metadata": {},
   "outputs": [
    {
     "data": {
      "text/html": [
       "<div>\n",
       "<style scoped>\n",
       "    .dataframe tbody tr th:only-of-type {\n",
       "        vertical-align: middle;\n",
       "    }\n",
       "\n",
       "    .dataframe tbody tr th {\n",
       "        vertical-align: top;\n",
       "    }\n",
       "\n",
       "    .dataframe thead th {\n",
       "        text-align: right;\n",
       "    }\n",
       "</style>\n",
       "<table border=\"1\" class=\"dataframe\">\n",
       "  <thead>\n",
       "    <tr style=\"text-align: right;\">\n",
       "      <th></th>\n",
       "      <th>customer_id</th>\n",
       "      <th>gender</th>\n",
       "    </tr>\n",
       "  </thead>\n",
       "  <tbody>\n",
       "    <tr>\n",
       "      <th>0</th>\n",
       "      <td>1000</td>\n",
       "      <td>0</td>\n",
       "    </tr>\n",
       "    <tr>\n",
       "      <th>1</th>\n",
       "      <td>1001</td>\n",
       "      <td>0</td>\n",
       "    </tr>\n",
       "    <tr>\n",
       "      <th>2</th>\n",
       "      <td>1002</td>\n",
       "      <td>1</td>\n",
       "    </tr>\n",
       "    <tr>\n",
       "      <th>1742</th>\n",
       "      <td>1002</td>\n",
       "      <td>1</td>\n",
       "    </tr>\n",
       "    <tr>\n",
       "      <th>928</th>\n",
       "      <td>1002</td>\n",
       "      <td>1</td>\n",
       "    </tr>\n",
       "  </tbody>\n",
       "</table>\n",
       "</div>"
      ],
      "text/plain": [
       "      customer_id  gender\n",
       "0            1000       0\n",
       "1            1001       0\n",
       "2            1002       1\n",
       "1742         1002       1\n",
       "928          1002       1"
      ]
     },
     "execution_count": 69,
     "metadata": {},
     "output_type": "execute_result"
    }
   ],
   "source": [
    "check_table.head()"
   ]
  },
  {
   "cell_type": "code",
   "execution_count": 72,
   "metadata": {},
   "outputs": [],
   "source": [
    "check_table['gender_mistake_check']=check_table.groupby('customer_id')['gender'].diff()"
   ]
  },
  {
   "cell_type": "code",
   "execution_count": 73,
   "metadata": {},
   "outputs": [],
   "source": [
    "# the new column will have \"Null\" when the customer only appear once or in the first record of the return customers, \n",
    "# so I filled these null values with 0\n",
    "check_table['gender_mistake_check']=check_table['gender_mistake_check'].fillna(0)"
   ]
  },
  {
   "cell_type": "code",
   "execution_count": 75,
   "metadata": {},
   "outputs": [
    {
     "data": {
      "text/html": [
       "<div>\n",
       "<style scoped>\n",
       "    .dataframe tbody tr th:only-of-type {\n",
       "        vertical-align: middle;\n",
       "    }\n",
       "\n",
       "    .dataframe tbody tr th {\n",
       "        vertical-align: top;\n",
       "    }\n",
       "\n",
       "    .dataframe thead th {\n",
       "        text-align: right;\n",
       "    }\n",
       "</style>\n",
       "<table border=\"1\" class=\"dataframe\">\n",
       "  <thead>\n",
       "    <tr style=\"text-align: right;\">\n",
       "      <th></th>\n",
       "      <th>customer_id</th>\n",
       "      <th>gender</th>\n",
       "      <th>gender_mistake_check</th>\n",
       "    </tr>\n",
       "  </thead>\n",
       "  <tbody>\n",
       "    <tr>\n",
       "      <th>0</th>\n",
       "      <td>1000</td>\n",
       "      <td>0</td>\n",
       "      <td>0.0</td>\n",
       "    </tr>\n",
       "    <tr>\n",
       "      <th>1</th>\n",
       "      <td>1001</td>\n",
       "      <td>0</td>\n",
       "      <td>0.0</td>\n",
       "    </tr>\n",
       "    <tr>\n",
       "      <th>2</th>\n",
       "      <td>1002</td>\n",
       "      <td>1</td>\n",
       "      <td>0.0</td>\n",
       "    </tr>\n",
       "    <tr>\n",
       "      <th>1742</th>\n",
       "      <td>1002</td>\n",
       "      <td>1</td>\n",
       "      <td>0.0</td>\n",
       "    </tr>\n",
       "    <tr>\n",
       "      <th>928</th>\n",
       "      <td>1002</td>\n",
       "      <td>1</td>\n",
       "      <td>0.0</td>\n",
       "    </tr>\n",
       "  </tbody>\n",
       "</table>\n",
       "</div>"
      ],
      "text/plain": [
       "      customer_id  gender  gender_mistake_check\n",
       "0            1000       0                   0.0\n",
       "1            1001       0                   0.0\n",
       "2            1002       1                   0.0\n",
       "1742         1002       1                   0.0\n",
       "928          1002       1                   0.0"
      ]
     },
     "execution_count": 75,
     "metadata": {},
     "output_type": "execute_result"
    }
   ],
   "source": [
    "check_table.head()"
   ]
  },
  {
   "cell_type": "code",
   "execution_count": 85,
   "metadata": {},
   "outputs": [
    {
     "data": {
      "text/html": [
       "<div>\n",
       "<style scoped>\n",
       "    .dataframe tbody tr th:only-of-type {\n",
       "        vertical-align: middle;\n",
       "    }\n",
       "\n",
       "    .dataframe tbody tr th {\n",
       "        vertical-align: top;\n",
       "    }\n",
       "\n",
       "    .dataframe thead th {\n",
       "        text-align: right;\n",
       "    }\n",
       "</style>\n",
       "<table border=\"1\" class=\"dataframe\">\n",
       "  <thead>\n",
       "    <tr style=\"text-align: right;\">\n",
       "      <th></th>\n",
       "      <th>customer_id</th>\n",
       "      <th>gender</th>\n",
       "      <th>gender_mistake_check</th>\n",
       "    </tr>\n",
       "  </thead>\n",
       "  <tbody>\n",
       "  </tbody>\n",
       "</table>\n",
       "</div>"
      ],
      "text/plain": [
       "Empty DataFrame\n",
       "Columns: [customer_id, gender, gender_mistake_check]\n",
       "Index: []"
      ]
     },
     "execution_count": 85,
     "metadata": {},
     "output_type": "execute_result"
    }
   ],
   "source": [
    "# if there is incorrect 'gender' record for return customers, the 'gender_mistake_check' value will be 1 or -1 (0-1 or 1-0),\n",
    "# which also can be considered as 'not equal to 0'\n",
    "check_table[check_table['gender_mistake_check']!=0]"
   ]
  },
  {
   "cell_type": "code",
   "execution_count": null,
   "metadata": {},
   "outputs": [],
   "source": [
    "#Step-2: the 'customer-gender' pair check proved there is no mistake so I can 'groupby' on this pair to create \n",
    "# the request table"
   ]
  },
  {
   "cell_type": "code",
   "execution_count": 7,
   "metadata": {
    "id": "RTu5hD_JBHJF"
   },
   "outputs": [],
   "source": [
    "recent_date=data.groupby(['customer_id','gender'])['date'].max().to_frame()\n",
    "recent_date.columns=['most_recent_order_date']\n",
    "recent_date.reset_index(inplace=True)"
   ]
  },
  {
   "cell_type": "code",
   "execution_count": 8,
   "metadata": {
    "id": "zfYLC9tGGPyq"
   },
   "outputs": [],
   "source": [
    "order_cnt=data.groupby(['customer_id','gender'])['customer_id'].count().to_frame()\n",
    "order_cnt.columns=['order_count']\n",
    "order_cnt.reset_index(inplace=True)"
   ]
  },
  {
   "cell_type": "code",
   "execution_count": 9,
   "metadata": {
    "id": "xk938YvP9fYP"
   },
   "outputs": [],
   "source": [
    "order_number_customer=pd.merge(recent_date,order_cnt,on=['customer_id','gender'])"
   ]
  },
  {
   "cell_type": "code",
   "execution_count": 79,
   "metadata": {
    "colab": {
     "base_uri": "https://localhost:8080/",
     "height": 386
    },
    "id": "F0wmJi3pOYQr",
    "outputId": "8d939713-6b5e-4bdc-aa6e-d7f473204618"
   },
   "outputs": [
    {
     "data": {
      "text/html": [
       "<div>\n",
       "<style scoped>\n",
       "    .dataframe tbody tr th:only-of-type {\n",
       "        vertical-align: middle;\n",
       "    }\n",
       "\n",
       "    .dataframe tbody tr th {\n",
       "        vertical-align: top;\n",
       "    }\n",
       "\n",
       "    .dataframe thead th {\n",
       "        text-align: right;\n",
       "    }\n",
       "</style>\n",
       "<table border=\"1\" class=\"dataframe\">\n",
       "  <thead>\n",
       "    <tr style=\"text-align: right;\">\n",
       "      <th></th>\n",
       "      <th>customer_id</th>\n",
       "      <th>gender</th>\n",
       "      <th>most_recent_order_date</th>\n",
       "      <th>order_count</th>\n",
       "    </tr>\n",
       "  </thead>\n",
       "  <tbody>\n",
       "    <tr>\n",
       "      <th>0</th>\n",
       "      <td>1000</td>\n",
       "      <td>0</td>\n",
       "      <td>2017-01-01 00:11:31</td>\n",
       "      <td>1</td>\n",
       "    </tr>\n",
       "    <tr>\n",
       "      <th>1</th>\n",
       "      <td>1001</td>\n",
       "      <td>0</td>\n",
       "      <td>2017-01-01 00:29:56</td>\n",
       "      <td>1</td>\n",
       "    </tr>\n",
       "    <tr>\n",
       "      <th>2</th>\n",
       "      <td>1002</td>\n",
       "      <td>1</td>\n",
       "      <td>2017-02-19 21:35:31</td>\n",
       "      <td>3</td>\n",
       "    </tr>\n",
       "    <tr>\n",
       "      <th>3</th>\n",
       "      <td>1003</td>\n",
       "      <td>1</td>\n",
       "      <td>2017-04-26 02:37:20</td>\n",
       "      <td>4</td>\n",
       "    </tr>\n",
       "    <tr>\n",
       "      <th>4</th>\n",
       "      <td>1004</td>\n",
       "      <td>0</td>\n",
       "      <td>2017-01-01 03:11:54</td>\n",
       "      <td>1</td>\n",
       "    </tr>\n",
       "    <tr>\n",
       "      <th>5</th>\n",
       "      <td>1005</td>\n",
       "      <td>1</td>\n",
       "      <td>2017-12-16 01:39:27</td>\n",
       "      <td>2</td>\n",
       "    </tr>\n",
       "    <tr>\n",
       "      <th>6</th>\n",
       "      <td>1006</td>\n",
       "      <td>1</td>\n",
       "      <td>2017-05-09 15:27:20</td>\n",
       "      <td>3</td>\n",
       "    </tr>\n",
       "    <tr>\n",
       "      <th>7</th>\n",
       "      <td>1007</td>\n",
       "      <td>0</td>\n",
       "      <td>2017-01-01 15:59:50</td>\n",
       "      <td>1</td>\n",
       "    </tr>\n",
       "    <tr>\n",
       "      <th>8</th>\n",
       "      <td>1008</td>\n",
       "      <td>0</td>\n",
       "      <td>2017-12-17 05:47:48</td>\n",
       "      <td>3</td>\n",
       "    </tr>\n",
       "    <tr>\n",
       "      <th>9</th>\n",
       "      <td>1009</td>\n",
       "      <td>1</td>\n",
       "      <td>2017-01-01 19:27:17</td>\n",
       "      <td>1</td>\n",
       "    </tr>\n",
       "  </tbody>\n",
       "</table>\n",
       "</div>"
      ],
      "text/plain": [
       "   customer_id  gender most_recent_order_date  order_count\n",
       "0         1000       0    2017-01-01 00:11:31            1\n",
       "1         1001       0    2017-01-01 00:29:56            1\n",
       "2         1002       1    2017-02-19 21:35:31            3\n",
       "3         1003       1    2017-04-26 02:37:20            4\n",
       "4         1004       0    2017-01-01 03:11:54            1\n",
       "5         1005       1    2017-12-16 01:39:27            2\n",
       "6         1006       1    2017-05-09 15:27:20            3\n",
       "7         1007       0    2017-01-01 15:59:50            1\n",
       "8         1008       0    2017-12-17 05:47:48            3\n",
       "9         1009       1    2017-01-01 19:27:17            1"
      ]
     },
     "execution_count": 79,
     "metadata": {},
     "output_type": "execute_result"
    }
   ],
   "source": [
    "# Step-3: displaty the first 10 rows of the reuslt table\n",
    "order_number_customer.sort_values(by='customer_id',ascending=True).head(10)"
   ]
  },
  {
   "cell_type": "markdown",
   "metadata": {
    "id": "bC_5mTfDPVcw"
   },
   "source": [
    "### B) Plot the count of orders per week for the store."
   ]
  },
  {
   "cell_type": "code",
   "execution_count": 12,
   "metadata": {},
   "outputs": [],
   "source": [
    "# Step-1: create column of 'week_number'"
   ]
  },
  {
   "cell_type": "code",
   "execution_count": 13,
   "metadata": {
    "id": "2mAlSA_JPl_G"
   },
   "outputs": [],
   "source": [
    "data['date']=pd.to_datetime(data['date'])"
   ]
  },
  {
   "cell_type": "code",
   "execution_count": 14,
   "metadata": {
    "id": "96RxzNGZQJ_k"
   },
   "outputs": [],
   "source": [
    "data['week_number']=data['date'].dt.week"
   ]
  },
  {
   "cell_type": "code",
   "execution_count": 15,
   "metadata": {
    "colab": {
     "base_uri": "https://localhost:8080/",
     "height": 228
    },
    "id": "K43iitwGQfRj",
    "outputId": "dff7007d-33a7-43a5-a71b-cb1b575955f1"
   },
   "outputs": [
    {
     "data": {
      "text/html": [
       "<div>\n",
       "<style scoped>\n",
       "    .dataframe tbody tr th:only-of-type {\n",
       "        vertical-align: middle;\n",
       "    }\n",
       "\n",
       "    .dataframe tbody tr th {\n",
       "        vertical-align: top;\n",
       "    }\n",
       "\n",
       "    .dataframe thead th {\n",
       "        text-align: right;\n",
       "    }\n",
       "</style>\n",
       "<table border=\"1\" class=\"dataframe\">\n",
       "  <thead>\n",
       "    <tr style=\"text-align: right;\">\n",
       "      <th></th>\n",
       "      <th>customer_id</th>\n",
       "      <th>gender</th>\n",
       "      <th>date</th>\n",
       "      <th>value</th>\n",
       "      <th>predicted_gender</th>\n",
       "      <th>week_number</th>\n",
       "    </tr>\n",
       "  </thead>\n",
       "  <tbody>\n",
       "    <tr>\n",
       "      <th>0</th>\n",
       "      <td>1000</td>\n",
       "      <td>0</td>\n",
       "      <td>2017-01-01 00:11:31</td>\n",
       "      <td>198.5</td>\n",
       "      <td>1</td>\n",
       "      <td>52</td>\n",
       "    </tr>\n",
       "    <tr>\n",
       "      <th>1</th>\n",
       "      <td>1001</td>\n",
       "      <td>0</td>\n",
       "      <td>2017-01-01 00:29:56</td>\n",
       "      <td>338.0</td>\n",
       "      <td>1</td>\n",
       "      <td>52</td>\n",
       "    </tr>\n",
       "    <tr>\n",
       "      <th>2</th>\n",
       "      <td>1002</td>\n",
       "      <td>1</td>\n",
       "      <td>2017-01-01 01:30:31</td>\n",
       "      <td>733.0</td>\n",
       "      <td>1</td>\n",
       "      <td>52</td>\n",
       "    </tr>\n",
       "    <tr>\n",
       "      <th>3</th>\n",
       "      <td>1003</td>\n",
       "      <td>1</td>\n",
       "      <td>2017-01-01 01:34:22</td>\n",
       "      <td>772.0</td>\n",
       "      <td>1</td>\n",
       "      <td>52</td>\n",
       "    </tr>\n",
       "    <tr>\n",
       "      <th>4</th>\n",
       "      <td>1004</td>\n",
       "      <td>0</td>\n",
       "      <td>2017-01-01 03:11:54</td>\n",
       "      <td>508.0</td>\n",
       "      <td>1</td>\n",
       "      <td>52</td>\n",
       "    </tr>\n",
       "  </tbody>\n",
       "</table>\n",
       "</div>"
      ],
      "text/plain": [
       "   customer_id  gender                date  value  predicted_gender  \\\n",
       "0         1000       0 2017-01-01 00:11:31  198.5                 1   \n",
       "1         1001       0 2017-01-01 00:29:56  338.0                 1   \n",
       "2         1002       1 2017-01-01 01:30:31  733.0                 1   \n",
       "3         1003       1 2017-01-01 01:34:22  772.0                 1   \n",
       "4         1004       0 2017-01-01 03:11:54  508.0                 1   \n",
       "\n",
       "   week_number  \n",
       "0           52  \n",
       "1           52  \n",
       "2           52  \n",
       "3           52  \n",
       "4           52  "
      ]
     },
     "execution_count": 15,
     "metadata": {},
     "output_type": "execute_result"
    }
   ],
   "source": [
    "data.head()"
   ]
  },
  {
   "cell_type": "code",
   "execution_count": 16,
   "metadata": {},
   "outputs": [
    {
     "name": "stderr",
     "output_type": "stream",
     "text": [
      "/opt/anaconda3/lib/python3.7/site-packages/ipykernel_launcher.py:1: SettingWithCopyWarning: \n",
      "A value is trying to be set on a copy of a slice from a DataFrame\n",
      "\n",
      "See the caveats in the documentation: https://pandas.pydata.org/pandas-docs/stable/user_guide/indexing.html#returning-a-view-versus-a-copy\n",
      "  \"\"\"Entry point for launching an IPython kernel.\n"
     ]
    }
   ],
   "source": [
    "# because 365 days is not divisible by 7 and in real calender, '2017-12-31' was Sunday of last week in 2017, \n",
    "# I set week number of '2017-01-01' as '1' to include all days of 2017 in calculation.\n",
    "\n",
    "data['week_number'][data['date']<'2017-01-02']=1"
   ]
  },
  {
   "cell_type": "code",
   "execution_count": 17,
   "metadata": {},
   "outputs": [],
   "source": [
    "# Step-2: aggregate the count of order by week and plot the result"
   ]
  },
  {
   "cell_type": "code",
   "execution_count": 18,
   "metadata": {
    "id": "Vn64w0zFUwLx"
   },
   "outputs": [],
   "source": [
    "weekly_order_cnt=data.groupby('week_number')['customer_id'].count().to_frame()\n",
    "weekly_order_cnt.columns=['weekly_order_count']\n",
    "weekly_order_cnt.reset_index(inplace=True)"
   ]
  },
  {
   "cell_type": "code",
   "execution_count": 19,
   "metadata": {
    "colab": {
     "base_uri": "https://localhost:8080/",
     "height": 228
    },
    "id": "Lj9y7k2rU20l",
    "outputId": "6f0788bf-03cd-443f-cb43-ae184809e3ff"
   },
   "outputs": [
    {
     "data": {
      "text/html": [
       "<div>\n",
       "<style scoped>\n",
       "    .dataframe tbody tr th:only-of-type {\n",
       "        vertical-align: middle;\n",
       "    }\n",
       "\n",
       "    .dataframe tbody tr th {\n",
       "        vertical-align: top;\n",
       "    }\n",
       "\n",
       "    .dataframe thead th {\n",
       "        text-align: right;\n",
       "    }\n",
       "</style>\n",
       "<table border=\"1\" class=\"dataframe\">\n",
       "  <thead>\n",
       "    <tr style=\"text-align: right;\">\n",
       "      <th></th>\n",
       "      <th>week_number</th>\n",
       "      <th>weekly_order_count</th>\n",
       "    </tr>\n",
       "  </thead>\n",
       "  <tbody>\n",
       "    <tr>\n",
       "      <th>0</th>\n",
       "      <td>1</td>\n",
       "      <td>194</td>\n",
       "    </tr>\n",
       "    <tr>\n",
       "      <th>1</th>\n",
       "      <td>2</td>\n",
       "      <td>264</td>\n",
       "    </tr>\n",
       "    <tr>\n",
       "      <th>2</th>\n",
       "      <td>3</td>\n",
       "      <td>405</td>\n",
       "    </tr>\n",
       "    <tr>\n",
       "      <th>3</th>\n",
       "      <td>4</td>\n",
       "      <td>233</td>\n",
       "    </tr>\n",
       "    <tr>\n",
       "      <th>4</th>\n",
       "      <td>5</td>\n",
       "      <td>211</td>\n",
       "    </tr>\n",
       "  </tbody>\n",
       "</table>\n",
       "</div>"
      ],
      "text/plain": [
       "   week_number  weekly_order_count\n",
       "0            1                 194\n",
       "1            2                 264\n",
       "2            3                 405\n",
       "3            4                 233\n",
       "4            5                 211"
      ]
     },
     "execution_count": 19,
     "metadata": {},
     "output_type": "execute_result"
    }
   ],
   "source": [
    "weekly_order_cnt.head()"
   ]
  },
  {
   "cell_type": "code",
   "execution_count": 20,
   "metadata": {
    "colab": {
     "base_uri": "https://localhost:8080/",
     "height": 548
    },
    "id": "AHbmmMSDVTDb",
    "outputId": "766fc5af-82ac-420b-eebf-d6dcc0ae6dd8"
   },
   "outputs": [
    {
     "data": {
      "image/png": "[encoded data removed]",
      "text/plain": [
       "<Figure size 842.4x595.44 with 1 Axes>"
      ]
     },
     "metadata": {},
     "output_type": "display_data"
    }
   ],
   "source": [
    "np.random.seed(0)\n",
    "n, p = 40, 8\n",
    "d = np.random.normal(0, 2, (n, p))\n",
    "d += np.log(np.arange(1, p + 1)) * -5 + 10\n",
    "\n",
    "sns.set_style('ticks')\n",
    "fig, ax = plt.subplots()\n",
    "\n",
    "fig.set_size_inches(11.7, 8.27)\n",
    "sns.barplot(x='week_number',y='weekly_order_count',data=weekly_order_cnt, ax=ax)    \n",
    "sns.despine()\n",
    "plt.title('weekly order count')\n",
    "plt.show()"
   ]
  },
  {
   "cell_type": "markdown",
   "metadata": {
    "id": "-PuCAF5XXLm_"
   },
   "source": [
    "### C) Compute the mean order value for gender 0 and for gender 1. \n",
    "### Do you think the difference is significant? Justify your choice of method."
   ]
  },
  {
   "cell_type": "code",
   "execution_count": 21,
   "metadata": {
    "id": "gZdsHf3TbdgD"
   },
   "outputs": [],
   "source": [
    "# step-1: initial check on the mean order value for gender-0 and gender-1"
   ]
  },
  {
   "cell_type": "code",
   "execution_count": 22,
   "metadata": {
    "colab": {
     "base_uri": "https://localhost:8080/",
     "height": 108
    },
    "id": "mEDnmMTfXPj7",
    "outputId": "33b17dc0-3c3b-46b8-8d14-e94494ed4a4e"
   },
   "outputs": [
    {
     "data": {
      "text/plain": [
       "gender\n",
       "0    363.890006\n",
       "1    350.708361\n",
       "Name: value, dtype: float64"
      ]
     },
     "execution_count": 22,
     "metadata": {},
     "output_type": "execute_result"
    }
   ],
   "source": [
    "data.groupby('gender')['value'].mean()"
   ]
  },
  {
   "cell_type": "code",
   "execution_count": 23,
   "metadata": {
    "colab": {
     "base_uri": "https://localhost:8080/",
     "height": 108
    },
    "id": "CuGSPZRYXZcL",
    "outputId": "0911bd2b-7f89-4a1d-951d-ad6ded78d23c"
   },
   "outputs": [
    {
     "data": {
      "text/plain": [
       "gender\n",
       "0    6759\n",
       "1    6712\n",
       "Name: customer_id, dtype: int64"
      ]
     },
     "execution_count": 23,
     "metadata": {},
     "output_type": "execute_result"
    }
   ],
   "source": [
    "data.groupby('gender')['customer_id'].count()"
   ]
  },
  {
   "cell_type": "code",
   "execution_count": 86,
   "metadata": {
    "id": "dkZqbf6xbjvC"
   },
   "outputs": [],
   "source": [
    "# step-2: The question only said to compare the mean order value for gender-0 and gender-1, so I assumed I am just asked to compare the mean values based on this dataset, not to estimate the difference of mean order value for these two genders in general.\n",
    "# Since the number of both gender-0 and gender-1 are way more than 30, I choose Z-test to test if the difference is significant."
   ]
  },
  {
   "cell_type": "code",
   "execution_count": 25,
   "metadata": {
    "id": "XO6N0DOiBQrH"
   },
   "outputs": [],
   "source": [
    "# step-3: before perform Z-test, create sub-datasets for each gender to check if the order value is normally distributed\n",
    "gender_0=data[data['gender']==0]\n",
    "gender_1=data[data['gender']==1]"
   ]
  },
  {
   "cell_type": "code",
   "execution_count": 26,
   "metadata": {
    "colab": {
     "base_uri": "https://localhost:8080/",
     "height": 316
    },
    "id": "e-daD4SvBkZ6",
    "outputId": "53c20869-b303-4143-f0c6-ab4bfa2522a9"
   },
   "outputs": [
    {
     "data": {
      "text/plain": [
       "<matplotlib.axes._subplots.AxesSubplot at 0x1a24d418d0>"
      ]
     },
     "execution_count": 26,
     "metadata": {},
     "output_type": "execute_result"
    },
    {
     "data": {
      "image/png": "[encoded data removed]",
      "text/plain": [
       "<Figure size 432x288 with 1 Axes>"
      ]
     },
     "metadata": {},
     "output_type": "display_data"
    }
   ],
   "source": [
    "sns.distplot(gender_0['value'])"
   ]
  },
  {
   "cell_type": "code",
   "execution_count": 27,
   "metadata": {
    "colab": {
     "base_uri": "https://localhost:8080/",
     "height": 316
    },
    "id": "37g6s-YiGoYS",
    "outputId": "788a7f77-2265-4221-d868-4147861aa861"
   },
   "outputs": [
    {
     "data": {
      "text/plain": [
       "<matplotlib.axes._subplots.AxesSubplot at 0x1a24d51a90>"
      ]
     },
     "execution_count": 27,
     "metadata": {},
     "output_type": "execute_result"
    },
    {
     "data": {
      "image/png": "[encoded data removed]",
      "text/plain": [
       "<Figure size 432x288 with 1 Axes>"
      ]
     },
     "metadata": {},
     "output_type": "display_data"
    }
   ],
   "source": [
    "sns.distplot(gender_1['value'])"
   ]
  },
  {
   "cell_type": "code",
   "execution_count": 87,
   "metadata": {
    "id": "XvAGjfuEX_NH"
   },
   "outputs": [],
   "source": [
    "# step-4: The above two plots indicate that the order value for gender-0 and gender-1 is slight postive sknewness, but still can be\n",
    "# considered as normally distributed, so it's valid perform Z-test now."
   ]
  },
  {
   "cell_type": "code",
   "execution_count": 29,
   "metadata": {
    "id": "SjZwDo8cVJYH"
   },
   "outputs": [],
   "source": [
    "from scipy import stats\n",
    "from statsmodels.stats import weightstats as stests"
   ]
  },
  {
   "cell_type": "code",
   "execution_count": 30,
   "metadata": {
    "id": "kKomQp9RG1Zt"
   },
   "outputs": [],
   "source": [
    "ztest ,pval = stests.ztest(gender_0['value'], gender_1['value'], value=0,alternative='two-sided')"
   ]
  },
  {
   "cell_type": "code",
   "execution_count": 31,
   "metadata": {
    "colab": {
     "base_uri": "https://localhost:8080/",
     "height": 55
    },
    "id": "dtVIFkzvV7da",
    "outputId": "2b134f7f-7589-45e4-9eaa-13fee171928d"
   },
   "outputs": [
    {
     "name": "stdout",
     "output_type": "stream",
     "text": [
      "ztest_score: 1.9757691572170935 p-value: 0.04818092815493747\n"
     ]
    }
   ],
   "source": [
    "print('ztest_score:',ztest,'p-value:',pval)"
   ]
  },
  {
   "cell_type": "code",
   "execution_count": 32,
   "metadata": {
    "colab": {
     "base_uri": "https://localhost:8080/",
     "height": 72
    },
    "id": "pjtCsb69V5iN",
    "outputId": "87040409-bbd6-44b9-e67a-f0cb0113401b"
   },
   "outputs": [
    {
     "name": "stdout",
     "output_type": "stream",
     "text": [
      "0.04818092815493747\n",
      "Conclusion:p-value is less than 0.05, reject null hypothesis, the difference of mean order value between gener-0 and gener-1 is siginificant\n"
     ]
    }
   ],
   "source": [
    "print(float(pval))\n",
    "if pval<0.05:\n",
    "    print(\"Conclusion:p-value is less than 0.05, reject null hypothesis, the difference of mean order value between gener-0 and gener-1 is siginificant\")\n",
    "else:\n",
    "    print(\"Conclusion:p-value is more than 0.05, accept null hypothesis,the difference of mean order value between gener-0 and gener-1 is not siginificant\")"
   ]
  },
  {
   "cell_type": "code",
   "execution_count": 33,
   "metadata": {
    "id": "-7aDOFGucdo2"
   },
   "outputs": [],
   "source": [
    "# Step-5: Conclusion: p value is less than 0.05, so I think the difference of mean order value between gener-0 and gener-1 is siginificant at 95% confidence level."
   ]
  },
  {
   "cell_type": "markdown",
   "metadata": {
    "id": "MbP7b8uNV5a_"
   },
   "source": [
    "### D) Generate a confusion matrix for the gender predictions of customers in this dataset. \n",
    "### You should assume that there is only one gender prediction for each customer. \n",
    "### What does the confusion matrix tell you about the quality of the predictions?"
   ]
  },
  {
   "cell_type": "code",
   "execution_count": 34,
   "metadata": {
    "id": "lcFHGyR4fQ16"
   },
   "outputs": [],
   "source": [
    "# step-1: for this question, the only concern is 'customer', 'real gender' and 'predicted gender', so I created a subset for these three columns;\n",
    "# and since there are customers occured more than once in the original data and only one gender prediction for each customer, to get more accurate result, \n",
    "# I dropped the dubplicated rows and only kept the 8814 unique records, each customer per row.\n",
    "\n",
    "unique_customer=data.loc[:,['customer_id','gender','predicted_gender']]\n",
    "unique_customer=unique_customer.drop_duplicates()"
   ]
  },
  {
   "cell_type": "code",
   "execution_count": 35,
   "metadata": {
    "id": "bh_98-qCnQZQ"
   },
   "outputs": [],
   "source": [
    "# step-2: generate the confusion matrix for gender prediction result\n",
    "gender_confusion_matrix=pd.crosstab(unique_customer['gender'], unique_customer['predicted_gender'], rownames=['True'], colnames=['Predicted'], margins=True)"
   ]
  },
  {
   "cell_type": "code",
   "execution_count": 36,
   "metadata": {
    "colab": {
     "base_uri": "https://localhost:8080/",
     "height": 196
    },
    "id": "dt6xD0vomxiM",
    "outputId": "db18baa0-d6c9-495c-a3bc-f2babd1d7bfa"
   },
   "outputs": [
    {
     "data": {
      "text/html": [
       "<div>\n",
       "<style scoped>\n",
       "    .dataframe tbody tr th:only-of-type {\n",
       "        vertical-align: middle;\n",
       "    }\n",
       "\n",
       "    .dataframe tbody tr th {\n",
       "        vertical-align: top;\n",
       "    }\n",
       "\n",
       "    .dataframe thead th {\n",
       "        text-align: right;\n",
       "    }\n",
       "</style>\n",
       "<table border=\"1\" class=\"dataframe\">\n",
       "  <thead>\n",
       "    <tr style=\"text-align: right;\">\n",
       "      <th>Predicted</th>\n",
       "      <th>0</th>\n",
       "      <th>1</th>\n",
       "      <th>All</th>\n",
       "    </tr>\n",
       "    <tr>\n",
       "      <th>True</th>\n",
       "      <th></th>\n",
       "      <th></th>\n",
       "      <th></th>\n",
       "    </tr>\n",
       "  </thead>\n",
       "  <tbody>\n",
       "    <tr>\n",
       "      <th>0</th>\n",
       "      <td>2189</td>\n",
       "      <td>2218</td>\n",
       "      <td>4407</td>\n",
       "    </tr>\n",
       "    <tr>\n",
       "      <th>1</th>\n",
       "      <td>895</td>\n",
       "      <td>3512</td>\n",
       "      <td>4407</td>\n",
       "    </tr>\n",
       "    <tr>\n",
       "      <th>All</th>\n",
       "      <td>3084</td>\n",
       "      <td>5730</td>\n",
       "      <td>8814</td>\n",
       "    </tr>\n",
       "  </tbody>\n",
       "</table>\n",
       "</div>"
      ],
      "text/plain": [
       "Predicted     0     1   All\n",
       "True                       \n",
       "0          2189  2218  4407\n",
       "1           895  3512  4407\n",
       "All        3084  5730  8814"
      ]
     },
     "execution_count": 36,
     "metadata": {},
     "output_type": "execute_result"
    }
   ],
   "source": [
    "gender_confusion_matrix"
   ]
  },
  {
   "cell_type": "code",
   "execution_count": 37,
   "metadata": {
    "id": "bSioToahbFGl"
   },
   "outputs": [],
   "source": [
    "# step-3: evaluate the quality of predictions\n",
    "# In this dataset, the prediction result is \"gender\", which means we care both \"correctly predicted Gender-0\" and \"correctly predicted Gender-1\", \n",
    "# so I decided to calculate metrics based on the information in confusion matrix in following approaches: \n",
    "# 1) accuracy: the total proportion of correctly identified gener-0 and gender-1, which can use sklearn \"accuracy_score\" \n",
    "# 2) the precision score, recall score and F-1 score for gender-0\n",
    "# 3) the precision score, recall score and F-1 score for gender-1"
   ]
  },
  {
   "cell_type": "code",
   "execution_count": 38,
   "metadata": {
    "id": "L2BRzf1snfac"
   },
   "outputs": [],
   "source": [
    "from sklearn.metrics import accuracy_score"
   ]
  },
  {
   "cell_type": "code",
   "execution_count": 39,
   "metadata": {
    "colab": {
     "base_uri": "https://localhost:8080/",
     "height": 55
    },
    "id": "XPOnV6bInsaw",
    "outputId": "c811ecc2-8f95-40d6-ede2-4b28ad5774ee"
   },
   "outputs": [
    {
     "name": "stdout",
     "output_type": "stream",
     "text": [
      "total accuracy: 0.6468118901747221\n"
     ]
    }
   ],
   "source": [
    "# 1) accuracy: the total proportion of \"correctly predicted Gender-0\" and \"correctly predicted Gender-1\"\n",
    "print('total accuracy:',accuracy_score(unique_customer['gender'], unique_customer['predicted_gender']))"
   ]
  },
  {
   "cell_type": "code",
   "execution_count": 40,
   "metadata": {
    "id": "Fs2FoKY9ttTx"
   },
   "outputs": [],
   "source": [
    "# 2) the precision score, recall score and F1 score for gender-0\n",
    "precision_gender_0=2189/3084\n",
    "recall_gender_0=2189/4407\n",
    "f1_gender_0=2*precision_gender_0*recall_gender_0/(precision_gender_0+recall_gender_0)"
   ]
  },
  {
   "cell_type": "code",
   "execution_count": 41,
   "metadata": {
    "colab": {
     "base_uri": "https://localhost:8080/",
     "height": 90
    },
    "id": "m9dfb-BGt938",
    "outputId": "089059ef-e2f5-4416-99ab-fa24c07aaa22"
   },
   "outputs": [
    {
     "name": "stdout",
     "output_type": "stream",
     "text": [
      "precision score for gender-0: 0.709792477302205\n",
      "recall score for gender-0: 0.4967097798956206\n",
      "F1 score for gender-0: 0.5844346549192364\n"
     ]
    }
   ],
   "source": [
    "print('precision score for gender-0:', precision_gender_0)\n",
    "print('recall score for gender-0:', recall_gender_0)\n",
    "print('F1 score for gender-0:', f1_gender_0)"
   ]
  },
  {
   "cell_type": "code",
   "execution_count": 42,
   "metadata": {
    "id": "1Y7EAJTrsfCV"
   },
   "outputs": [],
   "source": [
    "# 3) the precision score, recall score and F1 score for gender-1\n",
    "precision_gender_1=3512/5730\n",
    "recall_gender_1=3512/4407\n",
    "f1_gender_1=2*precision_gender_1*recall_gender_1/(precision_gender_1+recall_gender_1)"
   ]
  },
  {
   "cell_type": "code",
   "execution_count": 43,
   "metadata": {
    "colab": {
     "base_uri": "https://localhost:8080/",
     "height": 90
    },
    "id": "_5G_60vhu7lA",
    "outputId": "fdd11804-448c-4c63-f146-e8f309be3536"
   },
   "outputs": [
    {
     "name": "stdout",
     "output_type": "stream",
     "text": [
      "precision score for gender-1: 0.612914485165794\n",
      "recall score for gender-1: 0.7969140004538234\n",
      "F1 score for gender-1: 0.6929071717470652\n"
     ]
    }
   ],
   "source": [
    "print('precision score for gender-1:', precision_gender_1)\n",
    "print('recall score for gender-1:', recall_gender_1)\n",
    "print('F1 score for gender-1:', f1_gender_1)"
   ]
  },
  {
   "cell_type": "code",
   "execution_count": 81,
   "metadata": {
    "id": "6IIpV-w3t-Fu"
   },
   "outputs": [],
   "source": [
    "# Step 4: Conclusion\n",
    "# According to the three metrics that calculated above, I think the overall quality of the gender prediction is just OK as the total proportion of correctly identified gender (both 1 and 0) is only 65%.\n",
    "# The predicition quality of gender-1 is better than that of gender-0: althought the precision score of gener-0 is higher than that of gender-1,\n",
    "# the proportion of correctly identified gender-1 in all true gender-1 is higher than that of gender-0; and the f1 score of gender-1 is also higher than that of gender-0."
   ]
  },
  {
   "cell_type": "markdown",
   "metadata": {
    "id": "sjrMfg8rZNVA"
   },
   "source": [
    "### E) Describe one of your favorite tools or techniques and give a small example of how it's helped you solve a problem. \n",
    "### Limit your answer to one paragraph, and please be specific."
   ]
  },
  {
   "cell_type": "code",
   "execution_count": 82,
   "metadata": {
    "id": "snp1yGkRyBrP"
   },
   "outputs": [],
   "source": [
    "# Step-1: Answer statement\n",
    "# Among all the data analysis techniques that I’ve learnt so far, one of my favorite is “correlation matrix”. “Correlation coefficient” is a very useful index for identifying highly related variables, \n",
    "# and “correlation matrix” can easily give me a full impression of all the variable’s’ correlation in a dataset.  \n",
    "# This is very helpful in data exploration and modeling: firstly, if I have a high dimensional dataset and need to drop or combine features to reduce the dimension, \n",
    "# correlation matrix can give me a good reference. And identifying correlated features is especially important when building linear regression model because correlated features could bring collinearity problem; \n",
    "# secondly, when building linear regression model, sometimes I’ll use forward stepwise approach. In this circumstance, identifying the features that most closely related to the target value to build the initial model is very important and correlation matrix is very helpful."
   ]
  },
  {
   "cell_type": "code",
   "execution_count": 88,
   "metadata": {
    "id": "E62zw4Z3J8ol"
   },
   "outputs": [],
   "source": [
    "# Step-2: Small example: build a regression model with the most important features that selected based on information in correlation matrix"
   ]
  },
  {
   "cell_type": "code",
   "execution_count": 89,
   "metadata": {
    "id": "ofbpucDWKFxv"
   },
   "outputs": [],
   "source": [
    "# 1) The example data is a sales record from a real estate company\n",
    "example=pd.read_csv('example.csv')"
   ]
  },
  {
   "cell_type": "code",
   "execution_count": 48,
   "metadata": {
    "colab": {
     "base_uri": "https://localhost:8080/",
     "height": 228
    },
    "id": "Xa1itVLxMNZd",
    "outputId": "0c6c8dca-5063-4e36-a840-953f0c69ba6a"
   },
   "outputs": [
    {
     "data": {
      "text/html": [
       "<div>\n",
       "<style scoped>\n",
       "    .dataframe tbody tr th:only-of-type {\n",
       "        vertical-align: middle;\n",
       "    }\n",
       "\n",
       "    .dataframe tbody tr th {\n",
       "        vertical-align: top;\n",
       "    }\n",
       "\n",
       "    .dataframe thead th {\n",
       "        text-align: right;\n",
       "    }\n",
       "</style>\n",
       "<table border=\"1\" class=\"dataframe\">\n",
       "  <thead>\n",
       "    <tr style=\"text-align: right;\">\n",
       "      <th></th>\n",
       "      <th>id</th>\n",
       "      <th>MSSubClass</th>\n",
       "      <th>MSZoning</th>\n",
       "      <th>LotFrontage</th>\n",
       "      <th>LotArea</th>\n",
       "      <th>LandContour</th>\n",
       "      <th>OverallCond</th>\n",
       "      <th>YearBuilt</th>\n",
       "      <th>YearRemodAdd</th>\n",
       "      <th>RoofStyle</th>\n",
       "      <th>...</th>\n",
       "      <th>2ndFlrSF</th>\n",
       "      <th>LowQualFinSF</th>\n",
       "      <th>GrLivArea</th>\n",
       "      <th>BsmtFullBath</th>\n",
       "      <th>BsmtHalfBath</th>\n",
       "      <th>FullBath</th>\n",
       "      <th>EnclosedPorch</th>\n",
       "      <th>MiscVal</th>\n",
       "      <th>MoSold</th>\n",
       "      <th>SalePrice</th>\n",
       "    </tr>\n",
       "  </thead>\n",
       "  <tbody>\n",
       "    <tr>\n",
       "      <th>0</th>\n",
       "      <td>1</td>\n",
       "      <td>60</td>\n",
       "      <td>RL</td>\n",
       "      <td>65.0</td>\n",
       "      <td>8450</td>\n",
       "      <td>Lvl</td>\n",
       "      <td>5</td>\n",
       "      <td>2003</td>\n",
       "      <td>2003</td>\n",
       "      <td>Gable</td>\n",
       "      <td>...</td>\n",
       "      <td>854</td>\n",
       "      <td>0</td>\n",
       "      <td>1710</td>\n",
       "      <td>1</td>\n",
       "      <td>0</td>\n",
       "      <td>2</td>\n",
       "      <td>0</td>\n",
       "      <td>0</td>\n",
       "      <td>2</td>\n",
       "      <td>208500</td>\n",
       "    </tr>\n",
       "    <tr>\n",
       "      <th>1</th>\n",
       "      <td>2</td>\n",
       "      <td>20</td>\n",
       "      <td>RL</td>\n",
       "      <td>80.0</td>\n",
       "      <td>9600</td>\n",
       "      <td>Lvl</td>\n",
       "      <td>8</td>\n",
       "      <td>1976</td>\n",
       "      <td>1976</td>\n",
       "      <td>Gable</td>\n",
       "      <td>...</td>\n",
       "      <td>0</td>\n",
       "      <td>0</td>\n",
       "      <td>1262</td>\n",
       "      <td>0</td>\n",
       "      <td>1</td>\n",
       "      <td>2</td>\n",
       "      <td>0</td>\n",
       "      <td>0</td>\n",
       "      <td>5</td>\n",
       "      <td>181500</td>\n",
       "    </tr>\n",
       "    <tr>\n",
       "      <th>2</th>\n",
       "      <td>3</td>\n",
       "      <td>60</td>\n",
       "      <td>RL</td>\n",
       "      <td>68.0</td>\n",
       "      <td>11250</td>\n",
       "      <td>Lvl</td>\n",
       "      <td>5</td>\n",
       "      <td>2001</td>\n",
       "      <td>2002</td>\n",
       "      <td>Gable</td>\n",
       "      <td>...</td>\n",
       "      <td>866</td>\n",
       "      <td>0</td>\n",
       "      <td>1786</td>\n",
       "      <td>1</td>\n",
       "      <td>0</td>\n",
       "      <td>2</td>\n",
       "      <td>0</td>\n",
       "      <td>0</td>\n",
       "      <td>9</td>\n",
       "      <td>223500</td>\n",
       "    </tr>\n",
       "    <tr>\n",
       "      <th>3</th>\n",
       "      <td>4</td>\n",
       "      <td>70</td>\n",
       "      <td>RL</td>\n",
       "      <td>60.0</td>\n",
       "      <td>9550</td>\n",
       "      <td>Lvl</td>\n",
       "      <td>5</td>\n",
       "      <td>1915</td>\n",
       "      <td>1970</td>\n",
       "      <td>Gable</td>\n",
       "      <td>...</td>\n",
       "      <td>756</td>\n",
       "      <td>0</td>\n",
       "      <td>1717</td>\n",
       "      <td>1</td>\n",
       "      <td>0</td>\n",
       "      <td>1</td>\n",
       "      <td>272</td>\n",
       "      <td>0</td>\n",
       "      <td>2</td>\n",
       "      <td>140000</td>\n",
       "    </tr>\n",
       "    <tr>\n",
       "      <th>4</th>\n",
       "      <td>5</td>\n",
       "      <td>60</td>\n",
       "      <td>RL</td>\n",
       "      <td>84.0</td>\n",
       "      <td>14260</td>\n",
       "      <td>Lvl</td>\n",
       "      <td>5</td>\n",
       "      <td>2000</td>\n",
       "      <td>2000</td>\n",
       "      <td>Gable</td>\n",
       "      <td>...</td>\n",
       "      <td>1053</td>\n",
       "      <td>0</td>\n",
       "      <td>2198</td>\n",
       "      <td>1</td>\n",
       "      <td>0</td>\n",
       "      <td>2</td>\n",
       "      <td>0</td>\n",
       "      <td>0</td>\n",
       "      <td>12</td>\n",
       "      <td>250000</td>\n",
       "    </tr>\n",
       "  </tbody>\n",
       "</table>\n",
       "<p>5 rows × 28 columns</p>\n",
       "</div>"
      ],
      "text/plain": [
       "   id  MSSubClass MSZoning  LotFrontage  LotArea LandContour  OverallCond  \\\n",
       "0   1          60       RL         65.0     8450         Lvl            5   \n",
       "1   2          20       RL         80.0     9600         Lvl            8   \n",
       "2   3          60       RL         68.0    11250         Lvl            5   \n",
       "3   4          70       RL         60.0     9550         Lvl            5   \n",
       "4   5          60       RL         84.0    14260         Lvl            5   \n",
       "\n",
       "   YearBuilt  YearRemodAdd RoofStyle  ...  2ndFlrSF LowQualFinSF GrLivArea  \\\n",
       "0       2003          2003     Gable  ...       854            0      1710   \n",
       "1       1976          1976     Gable  ...         0            0      1262   \n",
       "2       2001          2002     Gable  ...       866            0      1786   \n",
       "3       1915          1970     Gable  ...       756            0      1717   \n",
       "4       2000          2000     Gable  ...      1053            0      2198   \n",
       "\n",
       "  BsmtFullBath BsmtHalfBath FullBath EnclosedPorch  MiscVal  MoSold  SalePrice  \n",
       "0            1            0        2             0        0       2     208500  \n",
       "1            0            1        2             0        0       5     181500  \n",
       "2            1            0        2             0        0       9     223500  \n",
       "3            1            0        1           272        0       2     140000  \n",
       "4            1            0        2             0        0      12     250000  \n",
       "\n",
       "[5 rows x 28 columns]"
      ]
     },
     "execution_count": 48,
     "metadata": {},
     "output_type": "execute_result"
    }
   ],
   "source": [
    "example.head()"
   ]
  },
  {
   "cell_type": "code",
   "execution_count": 49,
   "metadata": {
    "colab": {
     "base_uri": "https://localhost:8080/",
     "height": 653
    },
    "id": "1bbxtVD_LUeC",
    "outputId": "73b5c33c-b3a0-4847-ad50-7e99e3cd1d9e"
   },
   "outputs": [
    {
     "name": "stdout",
     "output_type": "stream",
     "text": [
      "<class 'pandas.core.frame.DataFrame'>\n",
      "RangeIndex: 30 entries, 0 to 29\n",
      "Data columns (total 28 columns):\n",
      " #   Column         Non-Null Count  Dtype  \n",
      "---  ------         --------------  -----  \n",
      " 0   id             30 non-null     int64  \n",
      " 1   MSSubClass     30 non-null     int64  \n",
      " 2   MSZoning       30 non-null     object \n",
      " 3   LotFrontage    25 non-null     float64\n",
      " 4   LotArea        30 non-null     int64  \n",
      " 5   LandContour    30 non-null     object \n",
      " 6   OverallCond    30 non-null     int64  \n",
      " 7   YearBuilt      30 non-null     int64  \n",
      " 8   YearRemodAdd   30 non-null     int64  \n",
      " 9   RoofStyle      30 non-null     object \n",
      " 10  MasVnrArea     30 non-null     int64  \n",
      " 11  ExterQual      30 non-null     object \n",
      " 12  ExterCond      30 non-null     object \n",
      " 13  Heating        30 non-null     object \n",
      " 14  HeatingQC      30 non-null     object \n",
      " 15  CentralAir     30 non-null     object \n",
      " 16  Electrical     30 non-null     object \n",
      " 17  1stFlrSF       30 non-null     int64  \n",
      " 18  2ndFlrSF       30 non-null     int64  \n",
      " 19  LowQualFinSF   30 non-null     int64  \n",
      " 20  GrLivArea      30 non-null     int64  \n",
      " 21  BsmtFullBath   30 non-null     int64  \n",
      " 22  BsmtHalfBath   30 non-null     int64  \n",
      " 23  FullBath       30 non-null     int64  \n",
      " 24  EnclosedPorch  30 non-null     int64  \n",
      " 25  MiscVal        30 non-null     int64  \n",
      " 26  MoSold         30 non-null     int64  \n",
      " 27  SalePrice      30 non-null     int64  \n",
      "dtypes: float64(1), int64(18), object(9)\n",
      "memory usage: 6.7+ KB\n"
     ]
    }
   ],
   "source": [
    "example.info()"
   ]
  },
  {
   "cell_type": "code",
   "execution_count": 50,
   "metadata": {
    "colab": {
     "base_uri": "https://localhost:8080/",
     "height": 55
    },
    "id": "ZaC2AtE4NdaG",
    "outputId": "acd00997-dc5f-44bd-e70f-7f12ef08286d"
   },
   "outputs": [
    {
     "data": {
      "text/plain": [
       "71.0"
      ]
     },
     "execution_count": 50,
     "metadata": {},
     "output_type": "execute_result"
    }
   ],
   "source": [
    "example['LotFrontage'].mean()"
   ]
  },
  {
   "cell_type": "code",
   "execution_count": 51,
   "metadata": {
    "id": "GebveimeNKjY"
   },
   "outputs": [],
   "source": [
    "example['LotFrontage']=example['LotFrontage'].fillna(71.0)"
   ]
  },
  {
   "cell_type": "code",
   "execution_count": 52,
   "metadata": {
    "id": "44vdoqUmMQyO"
   },
   "outputs": [],
   "source": [
    "# 2) build initial regression model with all features in the example dataset and check the adjusted R squre"
   ]
  },
  {
   "cell_type": "code",
   "execution_count": 53,
   "metadata": {
    "id": "rOzQLBCSMb45"
   },
   "outputs": [],
   "source": [
    "X=example.drop('SalePrice',axis=1)\n",
    "X=pd.get_dummies(X)\n",
    "y=example['SalePrice']"
   ]
  },
  {
   "cell_type": "code",
   "execution_count": 54,
   "metadata": {
    "id": "k7VKrdIHOUb5"
   },
   "outputs": [],
   "source": [
    "import statsmodels.regression.linear_model as sm"
   ]
  },
  {
   "cell_type": "code",
   "execution_count": 55,
   "metadata": {
    "id": "3F79KAe4OeAT"
   },
   "outputs": [],
   "source": [
    "regressor_OLS = sm.OLS(endog = y, exog = X).fit() \n"
   ]
  },
  {
   "cell_type": "code",
   "execution_count": 83,
   "metadata": {
    "colab": {
     "base_uri": "https://localhost:8080/",
     "height": 55
    },
    "id": "xBQuwg_GTROZ",
    "outputId": "1debb049-c03d-40cf-95d0-cb2804a09327"
   },
   "outputs": [
    {
     "name": "stdout",
     "output_type": "stream",
     "text": [
      "Adjusted R square of initial model: 0.7084204562854586\n"
     ]
    }
   ],
   "source": [
    "print('Adjusted R square of initial model:',regressor_OLS.rsquared_adj)"
   ]
  },
  {
   "cell_type": "code",
   "execution_count": 57,
   "metadata": {
    "id": "qF6MAX9sTdfz"
   },
   "outputs": [],
   "source": [
    "# 3) plot correlation matrix to identify the most important features"
   ]
  },
  {
   "cell_type": "code",
   "execution_count": 58,
   "metadata": {
    "id": "3ConojvHTqp9"
   },
   "outputs": [],
   "source": [
    "example2=pd.get_dummies(example)"
   ]
  },
  {
   "cell_type": "code",
   "execution_count": 59,
   "metadata": {
    "colab": {
     "base_uri": "https://localhost:8080/",
     "height": 802
    },
    "id": "A6LySs7XTk8V",
    "outputId": "a93a37f1-1c01-46c4-9bfb-84c6478f0914"
   },
   "outputs": [
    {
     "data": {
      "image/png": "[encoded data removed]",
      "text/plain": [
       "<Figure size 1296x864 with 2 Axes>"
      ]
     },
     "metadata": {},
     "output_type": "display_data"
    }
   ],
   "source": [
    "corrmat = example2.corr()\n",
    " \n",
    "f, ax = plt.subplots(figsize=(18, 12))\n",
    "sns.heatmap(corrmat, vmax=.8, square=True)\n",
    "plt.show()"
   ]
  },
  {
   "cell_type": "code",
   "execution_count": 60,
   "metadata": {
    "id": "dRu8F44zTzbL"
   },
   "outputs": [],
   "source": [
    "# 4) From the above plot, I found there are six features that has high correlation with \"SalePrice\", such as ExterQual_Ex and FullBath\n",
    "# so I select these six features to create a new model"
   ]
  },
  {
   "cell_type": "code",
   "execution_count": 61,
   "metadata": {
    "colab": {
     "base_uri": "https://localhost:8080/",
     "height": 178
    },
    "id": "wM3q95XbXamc",
    "outputId": "55597cad-8ef6-4456-bcf4-2dde1c944947"
   },
   "outputs": [
    {
     "data": {
      "text/plain": [
       "SalePrice       1.000000\n",
       "FullBath        0.776949\n",
       "GrLivArea       0.773462\n",
       "YearBuilt       0.757410\n",
       "MasVnrArea      0.743221\n",
       "ExterQual_Gd    0.726729\n",
       "YearRemodAdd    0.717199\n",
       "Name: SalePrice, dtype: float64"
      ]
     },
     "execution_count": 61,
     "metadata": {},
     "output_type": "execute_result"
    }
   ],
   "source": [
    "k=7\n",
    "corrmat.nlargest(k, 'SalePrice')['SalePrice']"
   ]
  },
  {
   "cell_type": "code",
   "execution_count": 62,
   "metadata": {
    "id": "JfHMnox9VWJo"
   },
   "outputs": [],
   "source": [
    "X2=example2.loc[:,['FullBath','GrLivArea','YearBuilt','MasVnrArea','ExterQual_Gd','YearRemodAdd']]\n"
   ]
  },
  {
   "cell_type": "code",
   "execution_count": 63,
   "metadata": {
    "id": "eRdBjioNV7ez"
   },
   "outputs": [],
   "source": [
    "regressor_OLS2 = sm.OLS(endog = y, exog = X2).fit() "
   ]
  },
  {
   "cell_type": "code",
   "execution_count": 84,
   "metadata": {
    "colab": {
     "base_uri": "https://localhost:8080/",
     "height": 55
    },
    "id": "jYysUIadX8PQ",
    "outputId": "d7236b64-30a0-4329-b2b3-e424942ef813"
   },
   "outputs": [
    {
     "name": "stdout",
     "output_type": "stream",
     "text": [
      "Adjusted R square of optimized model: 0.96259317004572\n"
     ]
    }
   ],
   "source": [
    "print('Adjusted R square of optimized model:',regressor_OLS2.rsquared_adj)"
   ]
  },
  {
   "cell_type": "code",
   "execution_count": 90,
   "metadata": {
    "id": "npZUL9zLYRRj"
   },
   "outputs": [],
   "source": [
    "# 5) The optimized model with the six most closely related features, the adjusted R square got a significant improvement"
   ]
  },
  {
   "cell_type": "code",
   "execution_count": 91,
   "metadata": {
    "id": "A6sQm9boY14W"
   },
   "outputs": [],
   "source": [
    "# 6) I plot a correlaion matrix with the selected six features and found they have correlated with each other too. \n",
    "# This could bring collinearity problem, in the future work, I might test Ridge regression to optimize the modeling again."
   ]
  },
  {
   "cell_type": "code",
   "execution_count": 67,
   "metadata": {
    "colab": {
     "base_uri": "https://localhost:8080/",
     "height": 387
    },
    "id": "cdBwd1ErVBKt",
    "outputId": "91f53299-4e53-4200-c16f-22c7e61ee73d"
   },
   "outputs": [
    {
     "data": {
      "image/png": "[encoded data removed]",
      "text/plain": [
       "<Figure size 432x288 with 2 Axes>"
      ]
     },
     "metadata": {},
     "output_type": "display_data"
    }
   ],
   "source": [
    "cols = corrmat.nlargest(k, 'SalePrice')['SalePrice'].index\n",
    "cm = np.corrcoef(example2[cols].values.T)\n",
    "sns.set(font_scale=1.25)\n",
    "hm = sns.heatmap(cm, cbar=True, annot=True, square=True, fmt='.2f', annot_kws={'size': 10}, yticklabels=cols.values, xticklabels=cols.values)"
   ]
  },
  {
   "cell_type": "code",
   "execution_count": null,
   "metadata": {},
   "outputs": [],
   "source": []
  }
 ],
 "metadata": {
  "colab": {
   "collapsed_sections": [],
   "name": "Klaviyo.ipynb",
   "provenance": []
  },
  "kernelspec": {
   "display_name": "Python 3",
   "language": "python",
   "name": "python3"
  },
  "language_info": {
   "codemirror_mode": {
    "name": "ipython",
    "version": 3
   },
   "file_extension": ".py",
   "mimetype": "text/x-python",
   "name": "python",
   "nbconvert_exporter": "python",
   "pygments_lexer": "ipython3",
   "version": "3.7.4"
  }
 },
 "nbformat": 4,
 "nbformat_minor": 1
}
