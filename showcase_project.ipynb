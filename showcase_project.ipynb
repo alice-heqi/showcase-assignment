{
  "nbformat": 4,
  "nbformat_minor": 0,
  "metadata": {
    "colab": {
      "name": "showcase project.ipynb",
      "provenance": [],
      "collapsed_sections": []
    },
    "kernelspec": {
      "name": "python3",
      "display_name": "Python 3"
    }
  },
  "cells": [
    {
      "cell_type": "code",
      "metadata": {
        "id": "14vJ495umjFJ",
        "colab_type": "code",
        "colab": {}
      },
      "source": [
        "import pandas as pd\n",
        "import numpy as np\n",
        "import matplotlib.pyplot as plt\n",
        "import seaborn as sns"
      ],
      "execution_count": 118,
      "outputs": []
    },
    {
      "cell_type": "code",
      "metadata": {
        "id": "uT_7yOrfm0zQ",
        "colab_type": "code",
        "colab": {}
      },
      "source": [
        "## read data\n",
        "\n",
        "data=pd.read_csv('showwcase_sessions.csv',skip_blank_lines=True)"
      ],
      "execution_count": 119,
      "outputs": []
    },
    {
      "cell_type": "code",
      "metadata": {
        "id": "zLQHKFvJm9JG",
        "colab_type": "code",
        "colab": {
          "base_uri": "https://localhost:8080/",
          "height": 407
        },
        "outputId": "9457abf8-b4a5-4608-d046-a639baf0ca72"
      },
      "source": [
        "data.info()"
      ],
      "execution_count": 120,
      "outputs": [
        {
          "output_type": "stream",
          "text": [
            "<class 'pandas.core.frame.DataFrame'>\n",
            "RangeIndex: 302 entries, 0 to 301\n",
            "Data columns (total 14 columns):\n",
            " #   Column                  Non-Null Count  Dtype  \n",
            "---  ------                  --------------  -----  \n",
            " 0   session_id              300 non-null    float64\n",
            " 1   customer_id             300 non-null    float64\n",
            " 2   login_date              300 non-null    object \n",
            " 3   projects_added          300 non-null    object \n",
            " 4   likes_given             300 non-null    object \n",
            " 5   comment_given           300 non-null    object \n",
            " 6   inactive_status         300 non-null    object \n",
            " 7   bug_occured             300 non-null    object \n",
            " 8   session_projects_added  300 non-null    float64\n",
            " 9   session_likes_given     299 non-null    float64\n",
            " 10  session_comments_given  300 non-null    float64\n",
            " 11  inactive_duration       300 non-null    float64\n",
            " 12  bugs_in_session         300 non-null    float64\n",
            " 13  session_duration        300 non-null    float64\n",
            "dtypes: float64(8), object(6)\n",
            "memory usage: 33.2+ KB\n"
          ],
          "name": "stdout"
        }
      ]
    },
    {
      "cell_type": "code",
      "metadata": {
        "id": "oOpvDm4Lng6-",
        "colab_type": "code",
        "colab": {
          "base_uri": "https://localhost:8080/",
          "height": 228
        },
        "outputId": "4def5eb4-ceaf-4495-90e5-3ae989e121c2"
      },
      "source": [
        "data.head()"
      ],
      "execution_count": 121,
      "outputs": [
        {
          "output_type": "execute_result",
          "data": {
            "text/html": [
              "<div>\n",
              "<style scoped>\n",
              "    .dataframe tbody tr th:only-of-type {\n",
              "        vertical-align: middle;\n",
              "    }\n",
              "\n",
              "    .dataframe tbody tr th {\n",
              "        vertical-align: top;\n",
              "    }\n",
              "\n",
              "    .dataframe thead th {\n",
              "        text-align: right;\n",
              "    }\n",
              "</style>\n",
              "<table border=\"1\" class=\"dataframe\">\n",
              "  <thead>\n",
              "    <tr style=\"text-align: right;\">\n",
              "      <th></th>\n",
              "      <th>session_id</th>\n",
              "      <th>customer_id</th>\n",
              "      <th>login_date</th>\n",
              "      <th>projects_added</th>\n",
              "      <th>likes_given</th>\n",
              "      <th>comment_given</th>\n",
              "      <th>inactive_status</th>\n",
              "      <th>bug_occured</th>\n",
              "      <th>session_projects_added</th>\n",
              "      <th>session_likes_given</th>\n",
              "      <th>session_comments_given</th>\n",
              "      <th>inactive_duration</th>\n",
              "      <th>bugs_in_session</th>\n",
              "      <th>session_duration</th>\n",
              "    </tr>\n",
              "  </thead>\n",
              "  <tbody>\n",
              "    <tr>\n",
              "      <th>0</th>\n",
              "      <td>624205.0</td>\n",
              "      <td>80746.0</td>\n",
              "      <td>10/30/19</td>\n",
              "      <td>False</td>\n",
              "      <td>True</td>\n",
              "      <td>True</td>\n",
              "      <td>True</td>\n",
              "      <td>False</td>\n",
              "      <td>0.0</td>\n",
              "      <td>24.0</td>\n",
              "      <td>3.0</td>\n",
              "      <td>1146.0</td>\n",
              "      <td>0.0</td>\n",
              "      <td>1564.0</td>\n",
              "    </tr>\n",
              "    <tr>\n",
              "      <th>1</th>\n",
              "      <td>624241.0</td>\n",
              "      <td>24520.0</td>\n",
              "      <td>10/30/19</td>\n",
              "      <td>True</td>\n",
              "      <td>True</td>\n",
              "      <td>True</td>\n",
              "      <td>True</td>\n",
              "      <td>False</td>\n",
              "      <td>2.0</td>\n",
              "      <td>3.0</td>\n",
              "      <td>5.0</td>\n",
              "      <td>133.0</td>\n",
              "      <td>0.0</td>\n",
              "      <td>1766.0</td>\n",
              "    </tr>\n",
              "    <tr>\n",
              "      <th>2</th>\n",
              "      <td>111002.0</td>\n",
              "      <td>32047.0</td>\n",
              "      <td>10/30/19</td>\n",
              "      <td>True</td>\n",
              "      <td>True</td>\n",
              "      <td>True</td>\n",
              "      <td>True</td>\n",
              "      <td>False</td>\n",
              "      <td>1.0</td>\n",
              "      <td>5.0</td>\n",
              "      <td>5.0</td>\n",
              "      <td>1571.0</td>\n",
              "      <td>0.0</td>\n",
              "      <td>2230.0</td>\n",
              "    </tr>\n",
              "    <tr>\n",
              "      <th>3</th>\n",
              "      <td>545113.0</td>\n",
              "      <td>23404.0</td>\n",
              "      <td>10/30/19</td>\n",
              "      <td>True</td>\n",
              "      <td>True</td>\n",
              "      <td>True</td>\n",
              "      <td>False</td>\n",
              "      <td>False</td>\n",
              "      <td>1.0</td>\n",
              "      <td>10.0</td>\n",
              "      <td>21.0</td>\n",
              "      <td>0.0</td>\n",
              "      <td>0.0</td>\n",
              "      <td>633.0</td>\n",
              "    </tr>\n",
              "    <tr>\n",
              "      <th>4</th>\n",
              "      <td>750269.0</td>\n",
              "      <td>40235.0</td>\n",
              "      <td>10/30/19</td>\n",
              "      <td>True</td>\n",
              "      <td>True</td>\n",
              "      <td>False</td>\n",
              "      <td>True</td>\n",
              "      <td>False</td>\n",
              "      <td>3.0</td>\n",
              "      <td>16.0</td>\n",
              "      <td>0.0</td>\n",
              "      <td>1405.0</td>\n",
              "      <td>0.0</td>\n",
              "      <td>1679.0</td>\n",
              "    </tr>\n",
              "  </tbody>\n",
              "</table>\n",
              "</div>"
            ],
            "text/plain": [
              "   session_id  customer_id  ... bugs_in_session session_duration\n",
              "0    624205.0      80746.0  ...             0.0           1564.0\n",
              "1    624241.0      24520.0  ...             0.0           1766.0\n",
              "2    111002.0      32047.0  ...             0.0           2230.0\n",
              "3    545113.0      23404.0  ...             0.0            633.0\n",
              "4    750269.0      40235.0  ...             0.0           1679.0\n",
              "\n",
              "[5 rows x 14 columns]"
            ]
          },
          "metadata": {
            "tags": []
          },
          "execution_count": 121
        }
      ]
    },
    {
      "cell_type": "code",
      "metadata": {
        "id": "t2RKyuIOE3cw",
        "colab_type": "code",
        "colab": {}
      },
      "source": [
        "### data cleaning and initial exploration "
      ],
      "execution_count": 122,
      "outputs": []
    },
    {
      "cell_type": "code",
      "metadata": {
        "id": "C0hdMCDPnO0a",
        "colab_type": "code",
        "colab": {
          "base_uri": "https://localhost:8080/",
          "height": 164
        },
        "outputId": "1820f93c-9af2-448d-b476-a16a0695c251"
      },
      "source": [
        "data[data['session_likes_given'].isnull()]"
      ],
      "execution_count": 123,
      "outputs": [
        {
          "output_type": "execute_result",
          "data": {
            "text/html": [
              "<div>\n",
              "<style scoped>\n",
              "    .dataframe tbody tr th:only-of-type {\n",
              "        vertical-align: middle;\n",
              "    }\n",
              "\n",
              "    .dataframe tbody tr th {\n",
              "        vertical-align: top;\n",
              "    }\n",
              "\n",
              "    .dataframe thead th {\n",
              "        text-align: right;\n",
              "    }\n",
              "</style>\n",
              "<table border=\"1\" class=\"dataframe\">\n",
              "  <thead>\n",
              "    <tr style=\"text-align: right;\">\n",
              "      <th></th>\n",
              "      <th>session_id</th>\n",
              "      <th>customer_id</th>\n",
              "      <th>login_date</th>\n",
              "      <th>projects_added</th>\n",
              "      <th>likes_given</th>\n",
              "      <th>comment_given</th>\n",
              "      <th>inactive_status</th>\n",
              "      <th>bug_occured</th>\n",
              "      <th>session_projects_added</th>\n",
              "      <th>session_likes_given</th>\n",
              "      <th>session_comments_given</th>\n",
              "      <th>inactive_duration</th>\n",
              "      <th>bugs_in_session</th>\n",
              "      <th>session_duration</th>\n",
              "    </tr>\n",
              "  </thead>\n",
              "  <tbody>\n",
              "    <tr>\n",
              "      <th>35</th>\n",
              "      <td>862128.0</td>\n",
              "      <td>23404.0</td>\n",
              "      <td>10/26/19</td>\n",
              "      <td>True</td>\n",
              "      <td>False</td>\n",
              "      <td>True</td>\n",
              "      <td>True</td>\n",
              "      <td>False</td>\n",
              "      <td>2.0</td>\n",
              "      <td>NaN</td>\n",
              "      <td>2.0</td>\n",
              "      <td>1120.0</td>\n",
              "      <td>0.0</td>\n",
              "      <td>95.0</td>\n",
              "    </tr>\n",
              "    <tr>\n",
              "      <th>300</th>\n",
              "      <td>NaN</td>\n",
              "      <td>NaN</td>\n",
              "      <td>NaN</td>\n",
              "      <td>NaN</td>\n",
              "      <td>NaN</td>\n",
              "      <td>NaN</td>\n",
              "      <td>NaN</td>\n",
              "      <td>NaN</td>\n",
              "      <td>NaN</td>\n",
              "      <td>NaN</td>\n",
              "      <td>NaN</td>\n",
              "      <td>NaN</td>\n",
              "      <td>NaN</td>\n",
              "      <td>NaN</td>\n",
              "    </tr>\n",
              "    <tr>\n",
              "      <th>301</th>\n",
              "      <td>NaN</td>\n",
              "      <td>NaN</td>\n",
              "      <td>NaN</td>\n",
              "      <td>NaN</td>\n",
              "      <td>NaN</td>\n",
              "      <td>NaN</td>\n",
              "      <td>NaN</td>\n",
              "      <td>NaN</td>\n",
              "      <td>NaN</td>\n",
              "      <td>NaN</td>\n",
              "      <td>NaN</td>\n",
              "      <td>NaN</td>\n",
              "      <td>NaN</td>\n",
              "      <td>NaN</td>\n",
              "    </tr>\n",
              "  </tbody>\n",
              "</table>\n",
              "</div>"
            ],
            "text/plain": [
              "     session_id  customer_id  ... bugs_in_session session_duration\n",
              "35     862128.0      23404.0  ...             0.0             95.0\n",
              "300         NaN          NaN  ...             NaN              NaN\n",
              "301         NaN          NaN  ...             NaN              NaN\n",
              "\n",
              "[3 rows x 14 columns]"
            ]
          },
          "metadata": {
            "tags": []
          },
          "execution_count": 123
        }
      ]
    },
    {
      "cell_type": "code",
      "metadata": {
        "id": "g9-MgADUoBTy",
        "colab_type": "code",
        "colab": {
          "base_uri": "https://localhost:8080/",
          "height": 228
        },
        "outputId": "9cff5b7c-fad1-4ad6-ff04-6d48a3b77c43"
      },
      "source": [
        "data.tail()"
      ],
      "execution_count": 124,
      "outputs": [
        {
          "output_type": "execute_result",
          "data": {
            "text/html": [
              "<div>\n",
              "<style scoped>\n",
              "    .dataframe tbody tr th:only-of-type {\n",
              "        vertical-align: middle;\n",
              "    }\n",
              "\n",
              "    .dataframe tbody tr th {\n",
              "        vertical-align: top;\n",
              "    }\n",
              "\n",
              "    .dataframe thead th {\n",
              "        text-align: right;\n",
              "    }\n",
              "</style>\n",
              "<table border=\"1\" class=\"dataframe\">\n",
              "  <thead>\n",
              "    <tr style=\"text-align: right;\">\n",
              "      <th></th>\n",
              "      <th>session_id</th>\n",
              "      <th>customer_id</th>\n",
              "      <th>login_date</th>\n",
              "      <th>projects_added</th>\n",
              "      <th>likes_given</th>\n",
              "      <th>comment_given</th>\n",
              "      <th>inactive_status</th>\n",
              "      <th>bug_occured</th>\n",
              "      <th>session_projects_added</th>\n",
              "      <th>session_likes_given</th>\n",
              "      <th>session_comments_given</th>\n",
              "      <th>inactive_duration</th>\n",
              "      <th>bugs_in_session</th>\n",
              "      <th>session_duration</th>\n",
              "    </tr>\n",
              "  </thead>\n",
              "  <tbody>\n",
              "    <tr>\n",
              "      <th>297</th>\n",
              "      <td>643880.0</td>\n",
              "      <td>51243.0</td>\n",
              "      <td>10/1/19</td>\n",
              "      <td>True</td>\n",
              "      <td>False</td>\n",
              "      <td>False</td>\n",
              "      <td>True</td>\n",
              "      <td>False</td>\n",
              "      <td>2.0</td>\n",
              "      <td>0.0</td>\n",
              "      <td>0.0</td>\n",
              "      <td>906.0</td>\n",
              "      <td>0.0</td>\n",
              "      <td>1990.0</td>\n",
              "    </tr>\n",
              "    <tr>\n",
              "      <th>298</th>\n",
              "      <td>844518.0</td>\n",
              "      <td>23083.0</td>\n",
              "      <td>10/1/19</td>\n",
              "      <td>True</td>\n",
              "      <td>False</td>\n",
              "      <td>False</td>\n",
              "      <td>True</td>\n",
              "      <td>False</td>\n",
              "      <td>1.0</td>\n",
              "      <td>0.0</td>\n",
              "      <td>0.0</td>\n",
              "      <td>139.0</td>\n",
              "      <td>0.0</td>\n",
              "      <td>1113.0</td>\n",
              "    </tr>\n",
              "    <tr>\n",
              "      <th>299</th>\n",
              "      <td>933954.0</td>\n",
              "      <td>38459.0</td>\n",
              "      <td>10/1/19</td>\n",
              "      <td>True</td>\n",
              "      <td>False</td>\n",
              "      <td>False</td>\n",
              "      <td>False</td>\n",
              "      <td>False</td>\n",
              "      <td>1.0</td>\n",
              "      <td>0.0</td>\n",
              "      <td>0.0</td>\n",
              "      <td>0.0</td>\n",
              "      <td>0.0</td>\n",
              "      <td>306.0</td>\n",
              "    </tr>\n",
              "    <tr>\n",
              "      <th>300</th>\n",
              "      <td>NaN</td>\n",
              "      <td>NaN</td>\n",
              "      <td>NaN</td>\n",
              "      <td>NaN</td>\n",
              "      <td>NaN</td>\n",
              "      <td>NaN</td>\n",
              "      <td>NaN</td>\n",
              "      <td>NaN</td>\n",
              "      <td>NaN</td>\n",
              "      <td>NaN</td>\n",
              "      <td>NaN</td>\n",
              "      <td>NaN</td>\n",
              "      <td>NaN</td>\n",
              "      <td>NaN</td>\n",
              "    </tr>\n",
              "    <tr>\n",
              "      <th>301</th>\n",
              "      <td>NaN</td>\n",
              "      <td>NaN</td>\n",
              "      <td>NaN</td>\n",
              "      <td>NaN</td>\n",
              "      <td>NaN</td>\n",
              "      <td>NaN</td>\n",
              "      <td>NaN</td>\n",
              "      <td>NaN</td>\n",
              "      <td>NaN</td>\n",
              "      <td>NaN</td>\n",
              "      <td>NaN</td>\n",
              "      <td>NaN</td>\n",
              "      <td>NaN</td>\n",
              "      <td>NaN</td>\n",
              "    </tr>\n",
              "  </tbody>\n",
              "</table>\n",
              "</div>"
            ],
            "text/plain": [
              "     session_id  customer_id  ... bugs_in_session session_duration\n",
              "297    643880.0      51243.0  ...             0.0           1990.0\n",
              "298    844518.0      23083.0  ...             0.0           1113.0\n",
              "299    933954.0      38459.0  ...             0.0            306.0\n",
              "300         NaN          NaN  ...             NaN              NaN\n",
              "301         NaN          NaN  ...             NaN              NaN\n",
              "\n",
              "[5 rows x 14 columns]"
            ]
          },
          "metadata": {
            "tags": []
          },
          "execution_count": 124
        }
      ]
    },
    {
      "cell_type": "code",
      "metadata": {
        "id": "EfYSiJSBp-Rj",
        "colab_type": "code",
        "colab": {}
      },
      "source": [
        "data=data.drop([300,301],axis=0)"
      ],
      "execution_count": 125,
      "outputs": []
    },
    {
      "cell_type": "code",
      "metadata": {
        "id": "tGSLEw7mERja",
        "colab_type": "code",
        "colab": {
          "base_uri": "https://localhost:8080/",
          "height": 228
        },
        "outputId": "88d61a3b-a068-4d13-8791-23cc48993da4"
      },
      "source": [
        "data.tail()"
      ],
      "execution_count": 126,
      "outputs": [
        {
          "output_type": "execute_result",
          "data": {
            "text/html": [
              "<div>\n",
              "<style scoped>\n",
              "    .dataframe tbody tr th:only-of-type {\n",
              "        vertical-align: middle;\n",
              "    }\n",
              "\n",
              "    .dataframe tbody tr th {\n",
              "        vertical-align: top;\n",
              "    }\n",
              "\n",
              "    .dataframe thead th {\n",
              "        text-align: right;\n",
              "    }\n",
              "</style>\n",
              "<table border=\"1\" class=\"dataframe\">\n",
              "  <thead>\n",
              "    <tr style=\"text-align: right;\">\n",
              "      <th></th>\n",
              "      <th>session_id</th>\n",
              "      <th>customer_id</th>\n",
              "      <th>login_date</th>\n",
              "      <th>projects_added</th>\n",
              "      <th>likes_given</th>\n",
              "      <th>comment_given</th>\n",
              "      <th>inactive_status</th>\n",
              "      <th>bug_occured</th>\n",
              "      <th>session_projects_added</th>\n",
              "      <th>session_likes_given</th>\n",
              "      <th>session_comments_given</th>\n",
              "      <th>inactive_duration</th>\n",
              "      <th>bugs_in_session</th>\n",
              "      <th>session_duration</th>\n",
              "    </tr>\n",
              "  </thead>\n",
              "  <tbody>\n",
              "    <tr>\n",
              "      <th>295</th>\n",
              "      <td>944212.0</td>\n",
              "      <td>40572.0</td>\n",
              "      <td>10/1/19</td>\n",
              "      <td>True</td>\n",
              "      <td>True</td>\n",
              "      <td>False</td>\n",
              "      <td>True</td>\n",
              "      <td>False</td>\n",
              "      <td>3.0</td>\n",
              "      <td>13.0</td>\n",
              "      <td>0.0</td>\n",
              "      <td>1174.0</td>\n",
              "      <td>0.0</td>\n",
              "      <td>2255.0</td>\n",
              "    </tr>\n",
              "    <tr>\n",
              "      <th>296</th>\n",
              "      <td>558332.0</td>\n",
              "      <td>87323.0</td>\n",
              "      <td>10/1/19</td>\n",
              "      <td>True</td>\n",
              "      <td>False</td>\n",
              "      <td>False</td>\n",
              "      <td>True</td>\n",
              "      <td>False</td>\n",
              "      <td>2.0</td>\n",
              "      <td>0.0</td>\n",
              "      <td>0.0</td>\n",
              "      <td>97.0</td>\n",
              "      <td>0.0</td>\n",
              "      <td>1692.0</td>\n",
              "    </tr>\n",
              "    <tr>\n",
              "      <th>297</th>\n",
              "      <td>643880.0</td>\n",
              "      <td>51243.0</td>\n",
              "      <td>10/1/19</td>\n",
              "      <td>True</td>\n",
              "      <td>False</td>\n",
              "      <td>False</td>\n",
              "      <td>True</td>\n",
              "      <td>False</td>\n",
              "      <td>2.0</td>\n",
              "      <td>0.0</td>\n",
              "      <td>0.0</td>\n",
              "      <td>906.0</td>\n",
              "      <td>0.0</td>\n",
              "      <td>1990.0</td>\n",
              "    </tr>\n",
              "    <tr>\n",
              "      <th>298</th>\n",
              "      <td>844518.0</td>\n",
              "      <td>23083.0</td>\n",
              "      <td>10/1/19</td>\n",
              "      <td>True</td>\n",
              "      <td>False</td>\n",
              "      <td>False</td>\n",
              "      <td>True</td>\n",
              "      <td>False</td>\n",
              "      <td>1.0</td>\n",
              "      <td>0.0</td>\n",
              "      <td>0.0</td>\n",
              "      <td>139.0</td>\n",
              "      <td>0.0</td>\n",
              "      <td>1113.0</td>\n",
              "    </tr>\n",
              "    <tr>\n",
              "      <th>299</th>\n",
              "      <td>933954.0</td>\n",
              "      <td>38459.0</td>\n",
              "      <td>10/1/19</td>\n",
              "      <td>True</td>\n",
              "      <td>False</td>\n",
              "      <td>False</td>\n",
              "      <td>False</td>\n",
              "      <td>False</td>\n",
              "      <td>1.0</td>\n",
              "      <td>0.0</td>\n",
              "      <td>0.0</td>\n",
              "      <td>0.0</td>\n",
              "      <td>0.0</td>\n",
              "      <td>306.0</td>\n",
              "    </tr>\n",
              "  </tbody>\n",
              "</table>\n",
              "</div>"
            ],
            "text/plain": [
              "     session_id  customer_id  ... bugs_in_session session_duration\n",
              "295    944212.0      40572.0  ...             0.0           2255.0\n",
              "296    558332.0      87323.0  ...             0.0           1692.0\n",
              "297    643880.0      51243.0  ...             0.0           1990.0\n",
              "298    844518.0      23083.0  ...             0.0           1113.0\n",
              "299    933954.0      38459.0  ...             0.0            306.0\n",
              "\n",
              "[5 rows x 14 columns]"
            ]
          },
          "metadata": {
            "tags": []
          },
          "execution_count": 126
        }
      ]
    },
    {
      "cell_type": "code",
      "metadata": {
        "id": "CKckRllDtIpL",
        "colab_type": "code",
        "colab": {}
      },
      "source": [
        "data['session_likes_given']=data['session_likes_given'].fillna(0.00)"
      ],
      "execution_count": 127,
      "outputs": []
    },
    {
      "cell_type": "code",
      "metadata": {
        "id": "AujbLdogxKif",
        "colab_type": "code",
        "colab": {
          "base_uri": "https://localhost:8080/",
          "height": 101
        },
        "outputId": "5a4362c6-47c2-4c86-f8c0-7bfc9500f6bc"
      },
      "source": [
        "data.iloc[35:36,:]"
      ],
      "execution_count": 128,
      "outputs": [
        {
          "output_type": "execute_result",
          "data": {
            "text/html": [
              "<div>\n",
              "<style scoped>\n",
              "    .dataframe tbody tr th:only-of-type {\n",
              "        vertical-align: middle;\n",
              "    }\n",
              "\n",
              "    .dataframe tbody tr th {\n",
              "        vertical-align: top;\n",
              "    }\n",
              "\n",
              "    .dataframe thead th {\n",
              "        text-align: right;\n",
              "    }\n",
              "</style>\n",
              "<table border=\"1\" class=\"dataframe\">\n",
              "  <thead>\n",
              "    <tr style=\"text-align: right;\">\n",
              "      <th></th>\n",
              "      <th>session_id</th>\n",
              "      <th>customer_id</th>\n",
              "      <th>login_date</th>\n",
              "      <th>projects_added</th>\n",
              "      <th>likes_given</th>\n",
              "      <th>comment_given</th>\n",
              "      <th>inactive_status</th>\n",
              "      <th>bug_occured</th>\n",
              "      <th>session_projects_added</th>\n",
              "      <th>session_likes_given</th>\n",
              "      <th>session_comments_given</th>\n",
              "      <th>inactive_duration</th>\n",
              "      <th>bugs_in_session</th>\n",
              "      <th>session_duration</th>\n",
              "    </tr>\n",
              "  </thead>\n",
              "  <tbody>\n",
              "    <tr>\n",
              "      <th>35</th>\n",
              "      <td>862128.0</td>\n",
              "      <td>23404.0</td>\n",
              "      <td>10/26/19</td>\n",
              "      <td>True</td>\n",
              "      <td>False</td>\n",
              "      <td>True</td>\n",
              "      <td>True</td>\n",
              "      <td>False</td>\n",
              "      <td>2.0</td>\n",
              "      <td>0.0</td>\n",
              "      <td>2.0</td>\n",
              "      <td>1120.0</td>\n",
              "      <td>0.0</td>\n",
              "      <td>95.0</td>\n",
              "    </tr>\n",
              "  </tbody>\n",
              "</table>\n",
              "</div>"
            ],
            "text/plain": [
              "    session_id  customer_id  ... bugs_in_session session_duration\n",
              "35    862128.0      23404.0  ...             0.0             95.0\n",
              "\n",
              "[1 rows x 14 columns]"
            ]
          },
          "metadata": {
            "tags": []
          },
          "execution_count": 128
        }
      ]
    },
    {
      "cell_type": "code",
      "metadata": {
        "id": "3CaNTNhLyJrq",
        "colab_type": "code",
        "colab": {}
      },
      "source": [
        "data['session_id']=data['session_id'].astype(int).astype(str)\n",
        "data['customer_id']=data['customer_id'].astype(int).astype(str)"
      ],
      "execution_count": 129,
      "outputs": []
    },
    {
      "cell_type": "code",
      "metadata": {
        "id": "yULrrBwEy5Zf",
        "colab_type": "code",
        "colab": {}
      },
      "source": [
        "data['login_date']=pd.to_datetime(data['login_date'])"
      ],
      "execution_count": 130,
      "outputs": []
    },
    {
      "cell_type": "code",
      "metadata": {
        "id": "0qh9jeXcz60x",
        "colab_type": "code",
        "colab": {
          "base_uri": "https://localhost:8080/",
          "height": 407
        },
        "outputId": "457a3d3b-39ac-4ab2-d64c-bcc94903a9cc"
      },
      "source": [
        "data.info()"
      ],
      "execution_count": 131,
      "outputs": [
        {
          "output_type": "stream",
          "text": [
            "<class 'pandas.core.frame.DataFrame'>\n",
            "Int64Index: 300 entries, 0 to 299\n",
            "Data columns (total 14 columns):\n",
            " #   Column                  Non-Null Count  Dtype         \n",
            "---  ------                  --------------  -----         \n",
            " 0   session_id              300 non-null    object        \n",
            " 1   customer_id             300 non-null    object        \n",
            " 2   login_date              300 non-null    datetime64[ns]\n",
            " 3   projects_added          300 non-null    object        \n",
            " 4   likes_given             300 non-null    object        \n",
            " 5   comment_given           300 non-null    object        \n",
            " 6   inactive_status         300 non-null    object        \n",
            " 7   bug_occured             300 non-null    object        \n",
            " 8   session_projects_added  300 non-null    float64       \n",
            " 9   session_likes_given     300 non-null    float64       \n",
            " 10  session_comments_given  300 non-null    float64       \n",
            " 11  inactive_duration       300 non-null    float64       \n",
            " 12  bugs_in_session         300 non-null    float64       \n",
            " 13  session_duration        300 non-null    float64       \n",
            "dtypes: datetime64[ns](1), float64(6), object(7)\n",
            "memory usage: 35.2+ KB\n"
          ],
          "name": "stdout"
        }
      ]
    },
    {
      "cell_type": "code",
      "metadata": {
        "id": "K9vJyhJapk7G",
        "colab_type": "code",
        "colab": {}
      },
      "source": [
        "data['week_number']=data['login_date'].dt.week"
      ],
      "execution_count": 132,
      "outputs": []
    },
    {
      "cell_type": "code",
      "metadata": {
        "id": "ABdNxzG_uLNq",
        "colab_type": "code",
        "colab": {}
      },
      "source": [
        "data['day_of_week']=data['login_date'].dt.day_name()"
      ],
      "execution_count": 133,
      "outputs": []
    },
    {
      "cell_type": "code",
      "metadata": {
        "id": "f4BkKcuXVqM3",
        "colab_type": "code",
        "colab": {
          "base_uri": "https://localhost:8080/",
          "height": 228
        },
        "outputId": "b5d3d180-05ba-4c63-936c-20287c90a90e"
      },
      "source": [
        "data.head()"
      ],
      "execution_count": 134,
      "outputs": [
        {
          "output_type": "execute_result",
          "data": {
            "text/html": [
              "<div>\n",
              "<style scoped>\n",
              "    .dataframe tbody tr th:only-of-type {\n",
              "        vertical-align: middle;\n",
              "    }\n",
              "\n",
              "    .dataframe tbody tr th {\n",
              "        vertical-align: top;\n",
              "    }\n",
              "\n",
              "    .dataframe thead th {\n",
              "        text-align: right;\n",
              "    }\n",
              "</style>\n",
              "<table border=\"1\" class=\"dataframe\">\n",
              "  <thead>\n",
              "    <tr style=\"text-align: right;\">\n",
              "      <th></th>\n",
              "      <th>session_id</th>\n",
              "      <th>customer_id</th>\n",
              "      <th>login_date</th>\n",
              "      <th>projects_added</th>\n",
              "      <th>likes_given</th>\n",
              "      <th>comment_given</th>\n",
              "      <th>inactive_status</th>\n",
              "      <th>bug_occured</th>\n",
              "      <th>session_projects_added</th>\n",
              "      <th>session_likes_given</th>\n",
              "      <th>session_comments_given</th>\n",
              "      <th>inactive_duration</th>\n",
              "      <th>bugs_in_session</th>\n",
              "      <th>session_duration</th>\n",
              "      <th>week_number</th>\n",
              "      <th>day_of_week</th>\n",
              "    </tr>\n",
              "  </thead>\n",
              "  <tbody>\n",
              "    <tr>\n",
              "      <th>0</th>\n",
              "      <td>624205</td>\n",
              "      <td>80746</td>\n",
              "      <td>2019-10-30</td>\n",
              "      <td>False</td>\n",
              "      <td>True</td>\n",
              "      <td>True</td>\n",
              "      <td>True</td>\n",
              "      <td>False</td>\n",
              "      <td>0.0</td>\n",
              "      <td>24.0</td>\n",
              "      <td>3.0</td>\n",
              "      <td>1146.0</td>\n",
              "      <td>0.0</td>\n",
              "      <td>1564.0</td>\n",
              "      <td>44</td>\n",
              "      <td>Wednesday</td>\n",
              "    </tr>\n",
              "    <tr>\n",
              "      <th>1</th>\n",
              "      <td>624241</td>\n",
              "      <td>24520</td>\n",
              "      <td>2019-10-30</td>\n",
              "      <td>True</td>\n",
              "      <td>True</td>\n",
              "      <td>True</td>\n",
              "      <td>True</td>\n",
              "      <td>False</td>\n",
              "      <td>2.0</td>\n",
              "      <td>3.0</td>\n",
              "      <td>5.0</td>\n",
              "      <td>133.0</td>\n",
              "      <td>0.0</td>\n",
              "      <td>1766.0</td>\n",
              "      <td>44</td>\n",
              "      <td>Wednesday</td>\n",
              "    </tr>\n",
              "    <tr>\n",
              "      <th>2</th>\n",
              "      <td>111002</td>\n",
              "      <td>32047</td>\n",
              "      <td>2019-10-30</td>\n",
              "      <td>True</td>\n",
              "      <td>True</td>\n",
              "      <td>True</td>\n",
              "      <td>True</td>\n",
              "      <td>False</td>\n",
              "      <td>1.0</td>\n",
              "      <td>5.0</td>\n",
              "      <td>5.0</td>\n",
              "      <td>1571.0</td>\n",
              "      <td>0.0</td>\n",
              "      <td>2230.0</td>\n",
              "      <td>44</td>\n",
              "      <td>Wednesday</td>\n",
              "    </tr>\n",
              "    <tr>\n",
              "      <th>3</th>\n",
              "      <td>545113</td>\n",
              "      <td>23404</td>\n",
              "      <td>2019-10-30</td>\n",
              "      <td>True</td>\n",
              "      <td>True</td>\n",
              "      <td>True</td>\n",
              "      <td>False</td>\n",
              "      <td>False</td>\n",
              "      <td>1.0</td>\n",
              "      <td>10.0</td>\n",
              "      <td>21.0</td>\n",
              "      <td>0.0</td>\n",
              "      <td>0.0</td>\n",
              "      <td>633.0</td>\n",
              "      <td>44</td>\n",
              "      <td>Wednesday</td>\n",
              "    </tr>\n",
              "    <tr>\n",
              "      <th>4</th>\n",
              "      <td>750269</td>\n",
              "      <td>40235</td>\n",
              "      <td>2019-10-30</td>\n",
              "      <td>True</td>\n",
              "      <td>True</td>\n",
              "      <td>False</td>\n",
              "      <td>True</td>\n",
              "      <td>False</td>\n",
              "      <td>3.0</td>\n",
              "      <td>16.0</td>\n",
              "      <td>0.0</td>\n",
              "      <td>1405.0</td>\n",
              "      <td>0.0</td>\n",
              "      <td>1679.0</td>\n",
              "      <td>44</td>\n",
              "      <td>Wednesday</td>\n",
              "    </tr>\n",
              "  </tbody>\n",
              "</table>\n",
              "</div>"
            ],
            "text/plain": [
              "  session_id customer_id login_date  ... session_duration week_number day_of_week\n",
              "0     624205       80746 2019-10-30  ...           1564.0          44   Wednesday\n",
              "1     624241       24520 2019-10-30  ...           1766.0          44   Wednesday\n",
              "2     111002       32047 2019-10-30  ...           2230.0          44   Wednesday\n",
              "3     545113       23404 2019-10-30  ...            633.0          44   Wednesday\n",
              "4     750269       40235 2019-10-30  ...           1679.0          44   Wednesday\n",
              "\n",
              "[5 rows x 16 columns]"
            ]
          },
          "metadata": {
            "tags": []
          },
          "execution_count": 134
        }
      ]
    },
    {
      "cell_type": "code",
      "metadata": {
        "id": "gI53TicUVzio",
        "colab_type": "code",
        "colab": {
          "base_uri": "https://localhost:8080/",
          "height": 55
        },
        "outputId": "2754c765-1c33-4b19-8541-ebdec9c4f1cc"
      },
      "source": [
        "data['week_number'].unique()"
      ],
      "execution_count": 135,
      "outputs": [
        {
          "output_type": "execute_result",
          "data": {
            "text/plain": [
              "array([44, 43, 42, 41, 40])"
            ]
          },
          "metadata": {
            "tags": []
          },
          "execution_count": 135
        }
      ]
    },
    {
      "cell_type": "code",
      "metadata": {
        "id": "voKeiM_SffJo",
        "colab_type": "code",
        "colab": {
          "base_uri": "https://localhost:8080/",
          "height": 196
        },
        "outputId": "d2451a18-eeec-41e8-d085-b292e1724b05"
      },
      "source": [
        "### 4 users didn't do anything in one session\n",
        "\n",
        "data.loc[(data['projects_added']==False) & (data['likes_given']==False) & (data['comment_given']==False)]"
      ],
      "execution_count": 136,
      "outputs": [
        {
          "output_type": "execute_result",
          "data": {
            "text/html": [
              "<div>\n",
              "<style scoped>\n",
              "    .dataframe tbody tr th:only-of-type {\n",
              "        vertical-align: middle;\n",
              "    }\n",
              "\n",
              "    .dataframe tbody tr th {\n",
              "        vertical-align: top;\n",
              "    }\n",
              "\n",
              "    .dataframe thead th {\n",
              "        text-align: right;\n",
              "    }\n",
              "</style>\n",
              "<table border=\"1\" class=\"dataframe\">\n",
              "  <thead>\n",
              "    <tr style=\"text-align: right;\">\n",
              "      <th></th>\n",
              "      <th>session_id</th>\n",
              "      <th>customer_id</th>\n",
              "      <th>login_date</th>\n",
              "      <th>projects_added</th>\n",
              "      <th>likes_given</th>\n",
              "      <th>comment_given</th>\n",
              "      <th>inactive_status</th>\n",
              "      <th>bug_occured</th>\n",
              "      <th>session_projects_added</th>\n",
              "      <th>session_likes_given</th>\n",
              "      <th>session_comments_given</th>\n",
              "      <th>inactive_duration</th>\n",
              "      <th>bugs_in_session</th>\n",
              "      <th>session_duration</th>\n",
              "      <th>week_number</th>\n",
              "      <th>day_of_week</th>\n",
              "    </tr>\n",
              "  </thead>\n",
              "  <tbody>\n",
              "    <tr>\n",
              "      <th>70</th>\n",
              "      <td>162379</td>\n",
              "      <td>43549</td>\n",
              "      <td>2019-10-24</td>\n",
              "      <td>False</td>\n",
              "      <td>False</td>\n",
              "      <td>False</td>\n",
              "      <td>False</td>\n",
              "      <td>True</td>\n",
              "      <td>0.0</td>\n",
              "      <td>0.0</td>\n",
              "      <td>0.0</td>\n",
              "      <td>0.0</td>\n",
              "      <td>1.0</td>\n",
              "      <td>724.0</td>\n",
              "      <td>43</td>\n",
              "      <td>Thursday</td>\n",
              "    </tr>\n",
              "    <tr>\n",
              "      <th>104</th>\n",
              "      <td>243101</td>\n",
              "      <td>29375</td>\n",
              "      <td>2019-10-20</td>\n",
              "      <td>False</td>\n",
              "      <td>False</td>\n",
              "      <td>False</td>\n",
              "      <td>True</td>\n",
              "      <td>True</td>\n",
              "      <td>0.0</td>\n",
              "      <td>0.0</td>\n",
              "      <td>0.0</td>\n",
              "      <td>1109.0</td>\n",
              "      <td>4.0</td>\n",
              "      <td>1115.0</td>\n",
              "      <td>42</td>\n",
              "      <td>Sunday</td>\n",
              "    </tr>\n",
              "    <tr>\n",
              "      <th>139</th>\n",
              "      <td>607530</td>\n",
              "      <td>73245</td>\n",
              "      <td>2019-10-17</td>\n",
              "      <td>False</td>\n",
              "      <td>False</td>\n",
              "      <td>False</td>\n",
              "      <td>True</td>\n",
              "      <td>False</td>\n",
              "      <td>0.0</td>\n",
              "      <td>0.0</td>\n",
              "      <td>0.0</td>\n",
              "      <td>1906.0</td>\n",
              "      <td>0.0</td>\n",
              "      <td>690.0</td>\n",
              "      <td>42</td>\n",
              "      <td>Thursday</td>\n",
              "    </tr>\n",
              "    <tr>\n",
              "      <th>195</th>\n",
              "      <td>823096</td>\n",
              "      <td>23083</td>\n",
              "      <td>2019-10-11</td>\n",
              "      <td>False</td>\n",
              "      <td>False</td>\n",
              "      <td>False</td>\n",
              "      <td>True</td>\n",
              "      <td>True</td>\n",
              "      <td>0.0</td>\n",
              "      <td>0.0</td>\n",
              "      <td>0.0</td>\n",
              "      <td>1429.0</td>\n",
              "      <td>2.0</td>\n",
              "      <td>665.0</td>\n",
              "      <td>41</td>\n",
              "      <td>Friday</td>\n",
              "    </tr>\n",
              "  </tbody>\n",
              "</table>\n",
              "</div>"
            ],
            "text/plain": [
              "    session_id customer_id  ... week_number day_of_week\n",
              "70      162379       43549  ...          43    Thursday\n",
              "104     243101       29375  ...          42      Sunday\n",
              "139     607530       73245  ...          42    Thursday\n",
              "195     823096       23083  ...          41      Friday\n",
              "\n",
              "[4 rows x 16 columns]"
            ]
          },
          "metadata": {
            "tags": []
          },
          "execution_count": 136
        }
      ]
    },
    {
      "cell_type": "code",
      "metadata": {
        "id": "rOPMwjSodjwG",
        "colab_type": "code",
        "colab": {
          "base_uri": "https://localhost:8080/",
          "height": 291
        },
        "outputId": "85dbf5ee-b160-48ce-d0db-e1acea666b55"
      },
      "source": [
        "data[data['customer_id']=='43549']"
      ],
      "execution_count": 137,
      "outputs": [
        {
          "output_type": "execute_result",
          "data": {
            "text/html": [
              "<div>\n",
              "<style scoped>\n",
              "    .dataframe tbody tr th:only-of-type {\n",
              "        vertical-align: middle;\n",
              "    }\n",
              "\n",
              "    .dataframe tbody tr th {\n",
              "        vertical-align: top;\n",
              "    }\n",
              "\n",
              "    .dataframe thead th {\n",
              "        text-align: right;\n",
              "    }\n",
              "</style>\n",
              "<table border=\"1\" class=\"dataframe\">\n",
              "  <thead>\n",
              "    <tr style=\"text-align: right;\">\n",
              "      <th></th>\n",
              "      <th>session_id</th>\n",
              "      <th>customer_id</th>\n",
              "      <th>login_date</th>\n",
              "      <th>projects_added</th>\n",
              "      <th>likes_given</th>\n",
              "      <th>comment_given</th>\n",
              "      <th>inactive_status</th>\n",
              "      <th>bug_occured</th>\n",
              "      <th>session_projects_added</th>\n",
              "      <th>session_likes_given</th>\n",
              "      <th>session_comments_given</th>\n",
              "      <th>inactive_duration</th>\n",
              "      <th>bugs_in_session</th>\n",
              "      <th>session_duration</th>\n",
              "      <th>week_number</th>\n",
              "      <th>day_of_week</th>\n",
              "    </tr>\n",
              "  </thead>\n",
              "  <tbody>\n",
              "    <tr>\n",
              "      <th>19</th>\n",
              "      <td>590435</td>\n",
              "      <td>43549</td>\n",
              "      <td>2019-10-28</td>\n",
              "      <td>True</td>\n",
              "      <td>True</td>\n",
              "      <td>True</td>\n",
              "      <td>False</td>\n",
              "      <td>True</td>\n",
              "      <td>1.0</td>\n",
              "      <td>5.0</td>\n",
              "      <td>1.0</td>\n",
              "      <td>0.0</td>\n",
              "      <td>3.0</td>\n",
              "      <td>878.0</td>\n",
              "      <td>44</td>\n",
              "      <td>Monday</td>\n",
              "    </tr>\n",
              "    <tr>\n",
              "      <th>70</th>\n",
              "      <td>162379</td>\n",
              "      <td>43549</td>\n",
              "      <td>2019-10-24</td>\n",
              "      <td>False</td>\n",
              "      <td>False</td>\n",
              "      <td>False</td>\n",
              "      <td>False</td>\n",
              "      <td>True</td>\n",
              "      <td>0.0</td>\n",
              "      <td>0.0</td>\n",
              "      <td>0.0</td>\n",
              "      <td>0.0</td>\n",
              "      <td>1.0</td>\n",
              "      <td>724.0</td>\n",
              "      <td>43</td>\n",
              "      <td>Thursday</td>\n",
              "    </tr>\n",
              "    <tr>\n",
              "      <th>115</th>\n",
              "      <td>930216</td>\n",
              "      <td>43549</td>\n",
              "      <td>2019-10-19</td>\n",
              "      <td>True</td>\n",
              "      <td>False</td>\n",
              "      <td>True</td>\n",
              "      <td>True</td>\n",
              "      <td>False</td>\n",
              "      <td>2.0</td>\n",
              "      <td>0.0</td>\n",
              "      <td>5.0</td>\n",
              "      <td>1673.0</td>\n",
              "      <td>0.0</td>\n",
              "      <td>615.0</td>\n",
              "      <td>42</td>\n",
              "      <td>Saturday</td>\n",
              "    </tr>\n",
              "    <tr>\n",
              "      <th>134</th>\n",
              "      <td>730001</td>\n",
              "      <td>43549</td>\n",
              "      <td>2019-10-18</td>\n",
              "      <td>False</td>\n",
              "      <td>False</td>\n",
              "      <td>True</td>\n",
              "      <td>False</td>\n",
              "      <td>False</td>\n",
              "      <td>0.0</td>\n",
              "      <td>0.0</td>\n",
              "      <td>2.0</td>\n",
              "      <td>0.0</td>\n",
              "      <td>0.0</td>\n",
              "      <td>1482.0</td>\n",
              "      <td>42</td>\n",
              "      <td>Friday</td>\n",
              "    </tr>\n",
              "    <tr>\n",
              "      <th>206</th>\n",
              "      <td>495864</td>\n",
              "      <td>43549</td>\n",
              "      <td>2019-10-10</td>\n",
              "      <td>True</td>\n",
              "      <td>True</td>\n",
              "      <td>True</td>\n",
              "      <td>True</td>\n",
              "      <td>True</td>\n",
              "      <td>5.0</td>\n",
              "      <td>6.0</td>\n",
              "      <td>5.0</td>\n",
              "      <td>534.0</td>\n",
              "      <td>1.0</td>\n",
              "      <td>312.0</td>\n",
              "      <td>41</td>\n",
              "      <td>Thursday</td>\n",
              "    </tr>\n",
              "    <tr>\n",
              "      <th>224</th>\n",
              "      <td>403473</td>\n",
              "      <td>43549</td>\n",
              "      <td>2019-10-08</td>\n",
              "      <td>True</td>\n",
              "      <td>True</td>\n",
              "      <td>True</td>\n",
              "      <td>False</td>\n",
              "      <td>False</td>\n",
              "      <td>2.0</td>\n",
              "      <td>14.0</td>\n",
              "      <td>4.0</td>\n",
              "      <td>0.0</td>\n",
              "      <td>0.0</td>\n",
              "      <td>329.0</td>\n",
              "      <td>41</td>\n",
              "      <td>Tuesday</td>\n",
              "    </tr>\n",
              "    <tr>\n",
              "      <th>246</th>\n",
              "      <td>225470</td>\n",
              "      <td>43549</td>\n",
              "      <td>2019-10-06</td>\n",
              "      <td>False</td>\n",
              "      <td>True</td>\n",
              "      <td>True</td>\n",
              "      <td>True</td>\n",
              "      <td>True</td>\n",
              "      <td>0.0</td>\n",
              "      <td>27.0</td>\n",
              "      <td>3.0</td>\n",
              "      <td>254.0</td>\n",
              "      <td>2.0</td>\n",
              "      <td>1998.0</td>\n",
              "      <td>40</td>\n",
              "      <td>Sunday</td>\n",
              "    </tr>\n",
              "  </tbody>\n",
              "</table>\n",
              "</div>"
            ],
            "text/plain": [
              "    session_id customer_id  ... week_number day_of_week\n",
              "19      590435       43549  ...          44      Monday\n",
              "70      162379       43549  ...          43    Thursday\n",
              "115     930216       43549  ...          42    Saturday\n",
              "134     730001       43549  ...          42      Friday\n",
              "206     495864       43549  ...          41    Thursday\n",
              "224     403473       43549  ...          41     Tuesday\n",
              "246     225470       43549  ...          40      Sunday\n",
              "\n",
              "[7 rows x 16 columns]"
            ]
          },
          "metadata": {
            "tags": []
          },
          "execution_count": 137
        }
      ]
    },
    {
      "cell_type": "code",
      "metadata": {
        "id": "hkT9OmIno6o0",
        "colab_type": "code",
        "colab": {
          "base_uri": "https://localhost:8080/",
          "height": 55
        },
        "outputId": "40040ca3-dd95-4d56-f7f5-6ebe8f3ebb51"
      },
      "source": [
        "data['customer_id'].nunique()"
      ],
      "execution_count": 138,
      "outputs": [
        {
          "output_type": "execute_result",
          "data": {
            "text/plain": [
              "48"
            ]
          },
          "metadata": {
            "tags": []
          },
          "execution_count": 138
        }
      ]
    },
    {
      "cell_type": "code",
      "metadata": {
        "id": "JAVf45wP9iHI",
        "colab_type": "code",
        "colab": {}
      },
      "source": [
        "### Session frequency analysis: the mean time of a user visists showcase platform between two consecutive visits"
      ],
      "execution_count": 139,
      "outputs": []
    },
    {
      "cell_type": "code",
      "metadata": {
        "id": "aIuAOp0HnRFB",
        "colab_type": "code",
        "colab": {}
      },
      "source": [
        "data=data.sort_values(by=['customer_id','login_date'])\n",
        "data['session_interval']=data.groupby('customer_id')['login_date'].diff().dt.days"
      ],
      "execution_count": 140,
      "outputs": []
    },
    {
      "cell_type": "code",
      "metadata": {
        "id": "XDpS2h_okYb4",
        "colab_type": "code",
        "colab": {
          "base_uri": "https://localhost:8080/",
          "height": 917
        },
        "outputId": "2d326204-363e-493e-d147-9e266806253b"
      },
      "source": [
        "data.groupby('customer_id')['session_interval'].mean().sort_values(ascending=False)"
      ],
      "execution_count": 141,
      "outputs": [
        {
          "output_type": "execute_result",
          "data": {
            "text/plain": [
              "customer_id\n",
              "80746    9.666667\n",
              "24520    8.000000\n",
              "10246    5.000000\n",
              "98653    4.600000\n",
              "12407    4.000000\n",
              "43057    4.000000\n",
              "96254    3.833333\n",
              "43549    3.666667\n",
              "29356    3.600000\n",
              "12496    3.600000\n",
              "73524    3.142857\n",
              "32047    3.000000\n",
              "34574    3.000000\n",
              "39475    3.000000\n",
              "23083    2.800000\n",
              "51243    2.545455\n",
              "43086    2.500000\n",
              "12940    2.500000\n",
              "93464    2.333333\n",
              "23985    2.285714\n",
              "23579    2.250000\n",
              "40572    1.933333\n",
              "73245    1.928571\n",
              "14354    1.928571\n",
              "87265    1.909091\n",
              "87323    1.750000\n",
              "40235    1.687500\n",
              "38459    1.647059\n",
              "29375    1.380952\n",
              "23404    1.350000\n",
              "19348         NaN\n",
              "19374         NaN\n",
              "20548         NaN\n",
              "23457         NaN\n",
              "23548         NaN\n",
              "23596         NaN\n",
              "29345         NaN\n",
              "33496         NaN\n",
              "43096         NaN\n",
              "43658         NaN\n",
              "46329         NaN\n",
              "68754         NaN\n",
              "76530         NaN\n",
              "82963         NaN\n",
              "92736         NaN\n",
              "93486         NaN\n",
              "98346         NaN\n",
              "98476         NaN\n",
              "Name: session_interval, dtype: float64"
            ]
          },
          "metadata": {
            "tags": []
          },
          "execution_count": 141
        }
      ]
    },
    {
      "cell_type": "code",
      "metadata": {
        "id": "_B1iPoAEjs3z",
        "colab_type": "code",
        "colab": {
          "base_uri": "https://localhost:8080/",
          "height": 460
        },
        "outputId": "a17f5457-6343-420d-a32e-1cdf05deef56"
      },
      "source": [
        "print(data.groupby('customer_id')['session_interval'].mean().describe())\n",
        "data.groupby('customer_id')['session_interval'].mean().hist()\n",
        "plt.title('distribution of \"average_session_interval_days_per_return_user\"')\n",
        "plt.show()"
      ],
      "execution_count": 142,
      "outputs": [
        {
          "output_type": "stream",
          "text": [
            "count    30.000000\n",
            "mean      3.161303\n",
            "std       1.823696\n",
            "min       1.350000\n",
            "25%       1.929762\n",
            "50%       2.672727\n",
            "75%       3.650000\n",
            "max       9.666667\n",
            "Name: session_interval, dtype: float64\n"
          ],
          "name": "stdout"
        },
        {
          "output_type": "display_data",
          "data": {
            "image/png": "[encoded data removed]",
            "text/plain": [
              "<Figure size 432x288 with 1 Axes>"
            ]
          },
          "metadata": {
            "tags": [],
            "needs_background": "light"
          }
        }
      ]
    },
    {
      "cell_type": "code",
      "metadata": {
        "id": "_AOIiJ2sbsCR",
        "colab_type": "code",
        "colab": {}
      },
      "source": [
        "### session length analysis"
      ],
      "execution_count": 143,
      "outputs": []
    },
    {
      "cell_type": "code",
      "metadata": {
        "id": "5zEhmzNmgz0O",
        "colab_type": "code",
        "colab": {
          "base_uri": "https://localhost:8080/",
          "height": 477
        },
        "outputId": "a66fd791-e9e1-41c4-e3b0-7211ad6d970f"
      },
      "source": [
        "print(data.groupby('customer_id')['session_duration'].mean().describe())\n",
        "data.groupby('customer_id')['session_duration'].mean().hist(color='green')\n",
        "plt.title('distribution of \"average_session_duration_per_user_per_session\"')"
      ],
      "execution_count": 144,
      "outputs": [
        {
          "output_type": "stream",
          "text": [
            "count      48.000000\n",
            "mean     1138.846103\n",
            "std       439.098765\n",
            "min       103.000000\n",
            "25%       973.333333\n",
            "50%      1167.233333\n",
            "75%      1332.250000\n",
            "max      2091.000000\n",
            "Name: session_duration, dtype: float64\n"
          ],
          "name": "stdout"
        },
        {
          "output_type": "execute_result",
          "data": {
            "text/plain": [
              "Text(0.5, 1.0, 'distribution of \"average_session_duration_per_user_per_session\"')"
            ]
          },
          "metadata": {
            "tags": []
          },
          "execution_count": 144
        },
        {
          "output_type": "display_data",
          "data": {
            "image/png": "[encoded data removed]",
            "text/plain": [
              "<Figure size 432x288 with 1 Axes>"
            ]
          },
          "metadata": {
            "tags": [],
            "needs_background": "light"
          }
        }
      ]
    },
    {
      "cell_type": "code",
      "metadata": {
        "id": "c1xChP9ejEYo",
        "colab_type": "code",
        "colab": {}
      },
      "source": [
        "## total engagement activities analysis"
      ],
      "execution_count": 145,
      "outputs": []
    },
    {
      "cell_type": "code",
      "metadata": {
        "id": "KSjitW4V9Hk0",
        "colab_type": "code",
        "colab": {}
      },
      "source": [
        "data['total_activity']=data['projects_added']+data['session_likes_given']+data['session_comments_given']\n",
        "data['total_activity']=data['total_activity'].astype(float)"
      ],
      "execution_count": 146,
      "outputs": []
    },
    {
      "cell_type": "code",
      "metadata": {
        "id": "RxwhXSRv1BOb",
        "colab_type": "code",
        "colab": {}
      },
      "source": [
        "total_act_day=pd.DataFrame(data.groupby('login_date')['total_activity'].sum()/data.groupby('login_date')['customer_id'].nunique())\n",
        "total_act_day.columns=['total_activity per user per day']\n",
        "total_act_day.reset_index(inplace=True)"
      ],
      "execution_count": 147,
      "outputs": []
    },
    {
      "cell_type": "code",
      "metadata": {
        "id": "VTWR2s1b1BDY",
        "colab_type": "code",
        "colab": {
          "base_uri": "https://localhost:8080/",
          "height": 536
        },
        "outputId": "aef15705-5949-435f-b034-d41967f5103c"
      },
      "source": [
        "fig, ax1 = plt.subplots(figsize=(12,8))\n",
        "sns.lineplot(x='login_date',y='total_activity per user per day',data=total_act_day,ax=ax1)"
      ],
      "execution_count": 148,
      "outputs": [
        {
          "output_type": "execute_result",
          "data": {
            "text/plain": [
              "<matplotlib.axes._subplots.AxesSubplot at 0x7fe7d1fed320>"
            ]
          },
          "metadata": {
            "tags": []
          },
          "execution_count": 148
        },
        {
          "output_type": "display_data",
          "data": {
            "image/png": "[encoded data removed]",
            "text/plain": [
              "<Figure size 864x576 with 1 Axes>"
            ]
          },
          "metadata": {
            "tags": [],
            "needs_background": "light"
          }
        }
      ]
    },
    {
      "cell_type": "code",
      "metadata": {
        "id": "Y6-4rXPa1A2X",
        "colab_type": "code",
        "colab": {}
      },
      "source": [
        "total_act_wk_day=pd.DataFrame(data.groupby('day_of_week')['total_activity'].sum()/data.groupby('day_of_week')['customer_id'].nunique())\n",
        "total_act_wk_day.columns=['total_activity per user per weekday']\n",
        "total_act_wk_day.reset_index(inplace=True)"
      ],
      "execution_count": 149,
      "outputs": []
    },
    {
      "cell_type": "code",
      "metadata": {
        "id": "uOzOwsXH1S33",
        "colab_type": "code",
        "colab": {
          "base_uri": "https://localhost:8080/",
          "height": 372
        },
        "outputId": "c9dbb6aa-6fe4-45f6-b1cf-ab859d97c952"
      },
      "source": [
        "fig, ax1 = plt.subplots(figsize=(10,5))\n",
        "sns.barplot(x='day_of_week',y='total_activity per user per weekday',data=total_act_wk_day,ax=ax1)"
      ],
      "execution_count": 150,
      "outputs": [
        {
          "output_type": "execute_result",
          "data": {
            "text/plain": [
              "<matplotlib.axes._subplots.AxesSubplot at 0x7fe7d1f124e0>"
            ]
          },
          "metadata": {
            "tags": []
          },
          "execution_count": 150
        },
        {
          "output_type": "display_data",
          "data": {
            "image/png": "[encoded data removed]",
            "text/plain": [
              "<Figure size 720x360 with 1 Axes>"
            ]
          },
          "metadata": {
            "tags": [],
            "needs_background": "light"
          }
        }
      ]
    },
    {
      "cell_type": "code",
      "metadata": {
        "id": "oolGW4JU1St7",
        "colab_type": "code",
        "colab": {}
      },
      "source": [
        "total_act_week=pd.DataFrame(data.groupby('week_number')['total_activity'].sum()/data.groupby('week_number')['customer_id'].nunique())\n",
        "total_act_week.columns=['total_activity per user per week']\n",
        "total_act_week.reset_index(inplace=True)"
      ],
      "execution_count": 151,
      "outputs": []
    },
    {
      "cell_type": "code",
      "metadata": {
        "id": "DTAZvYDx1Si8",
        "colab_type": "code",
        "colab": {
          "base_uri": "https://localhost:8080/",
          "height": 427
        },
        "outputId": "97b9857b-bd8e-4cac-d5d0-d86be7602d59"
      },
      "source": [
        "fig, ax1 = plt.subplots(figsize=(9,6))\n",
        "sns.barplot(x='week_number',y='total_activity per user per week',data=total_act_week,ax=ax1)"
      ],
      "execution_count": 152,
      "outputs": [
        {
          "output_type": "execute_result",
          "data": {
            "text/plain": [
              "<matplotlib.axes._subplots.AxesSubplot at 0x7fe7d1f10208>"
            ]
          },
          "metadata": {
            "tags": []
          },
          "execution_count": 152
        },
        {
          "output_type": "display_data",
          "data": {
            "image/png": "[encoded data removed]",
            "text/plain": [
              "<Figure size 648x432 with 1 Axes>"
            ]
          },
          "metadata": {
            "tags": [],
            "needs_background": "light"
          }
        }
      ]
    },
    {
      "cell_type": "code",
      "metadata": {
        "id": "Pse5I383pgD-",
        "colab_type": "code",
        "colab": {}
      },
      "source": [
        "### detail engagement activities analysis"
      ],
      "execution_count": 153,
      "outputs": []
    },
    {
      "cell_type": "code",
      "metadata": {
        "id": "jrLhGQCcYZYj",
        "colab_type": "code",
        "colab": {}
      },
      "source": [
        "## projects_added per user per day\n",
        "projects_day=pd.DataFrame(data.groupby('login_date')['session_projects_added'].sum()/data.groupby('login_date')['customer_id'].nunique())\n",
        "projects_day.columns=['projects_added per user per day']\n",
        "projects_day.reset_index(inplace=True)"
      ],
      "execution_count": 154,
      "outputs": []
    },
    {
      "cell_type": "code",
      "metadata": {
        "id": "d0Mkf9igedHg",
        "colab_type": "code",
        "colab": {}
      },
      "source": [
        "## likes_given per user per day\n",
        "likes_day=pd.DataFrame(data.groupby('login_date')['session_likes_given'].sum()/data.groupby('login_date')['customer_id'].nunique())\n",
        "likes_day.columns=['likes_given per user per day']\n",
        "likes_day.reset_index(inplace=True)"
      ],
      "execution_count": 155,
      "outputs": []
    },
    {
      "cell_type": "code",
      "metadata": {
        "id": "EXwUyi4JepoA",
        "colab_type": "code",
        "colab": {}
      },
      "source": [
        "## comments_given per user per day\n",
        "comments_day=pd.DataFrame(data.groupby('login_date')['session_comments_given'].sum()/data.groupby('login_date')['customer_id'].nunique())\n",
        "comments_day.columns=['comments_given per user per day']\n",
        "comments_day.reset_index(inplace=True)"
      ],
      "execution_count": 156,
      "outputs": []
    },
    {
      "cell_type": "code",
      "metadata": {
        "id": "eVWk4DUqcnxW",
        "colab_type": "code",
        "colab": {}
      },
      "source": [
        "df_day = pd.merge(projects_day, likes_day,on='login_date')\n",
        "df_day = pd.merge(df_day,comments_day,on='login_date')"
      ],
      "execution_count": 157,
      "outputs": []
    },
    {
      "cell_type": "code",
      "metadata": {
        "id": "9nV5RRbMdCVt",
        "colab_type": "code",
        "colab": {}
      },
      "source": [
        "df_day2=df_day.melt('login_date', var_name='a', value_name='activity per user per day')"
      ],
      "execution_count": 158,
      "outputs": []
    },
    {
      "cell_type": "code",
      "metadata": {
        "id": "4cFXd7hpdXhR",
        "colab_type": "code",
        "colab": {
          "base_uri": "https://localhost:8080/",
          "height": 534
        },
        "outputId": "5076c34f-89d1-400e-edf8-831a6f50a9db"
      },
      "source": [
        "fig, ax1 = plt.subplots(figsize=(12,8))\n",
        "sns.lineplot(x='login_date', y='activity per user per day', data=df_day2, hue='a',ax=ax1)\n",
        "plt.title('30-days detail engaged activity per user per kday')\n",
        "plt.show()"
      ],
      "execution_count": 159,
      "outputs": [
        {
          "output_type": "display_data",
          "data": {
            "image/png": "[encoded data removed]",
            "text/plain": [
              "<Figure size 864x576 with 1 Axes>"
            ]
          },
          "metadata": {
            "tags": [],
            "needs_background": "light"
          }
        }
      ]
    },
    {
      "cell_type": "code",
      "metadata": {
        "id": "75O13dt1eYad",
        "colab_type": "code",
        "colab": {}
      },
      "source": [
        "## projects_added per user per week\n",
        "projects_week=pd.DataFrame(data.groupby('week_number')['session_projects_added'].sum()/data.groupby('week_number')['customer_id'].nunique())\n",
        "projects_week.columns=['projects_added per user per week']\n",
        "projects_week.reset_index(inplace=True)"
      ],
      "execution_count": 160,
      "outputs": []
    },
    {
      "cell_type": "code",
      "metadata": {
        "id": "vQ6IYkwwfbd6",
        "colab_type": "code",
        "colab": {}
      },
      "source": [
        "## likes_given per user per week\n",
        "likes_week=pd.DataFrame(data.groupby('week_number')['session_likes_given'].sum()/data.groupby('week_number')['customer_id'].nunique())\n",
        "likes_week.columns=['likes_given per user per week']\n",
        "likes_week.reset_index(inplace=True)"
      ],
      "execution_count": 161,
      "outputs": []
    },
    {
      "cell_type": "code",
      "metadata": {
        "id": "8LO6zKPVfbVF",
        "colab_type": "code",
        "colab": {}
      },
      "source": [
        "## commetns_given per user per week\n",
        "comments_week=pd.DataFrame(data.groupby('week_number')['session_comments_given'].sum()/data.groupby('week_number')['customer_id'].nunique())\n",
        "comments_week.columns=['comments_given per user per week']\n",
        "comments_week.reset_index(inplace=True)"
      ],
      "execution_count": 162,
      "outputs": []
    },
    {
      "cell_type": "code",
      "metadata": {
        "id": "PgCG0L8tfbMc",
        "colab_type": "code",
        "colab": {}
      },
      "source": [
        "df_week = pd.merge(projects_week, likes_week,on='week_number')\n",
        "df_week = pd.merge(df_week,comments_week,on='week_number')"
      ],
      "execution_count": 163,
      "outputs": []
    },
    {
      "cell_type": "code",
      "metadata": {
        "id": "4uslQ6qCiLwf",
        "colab_type": "code",
        "colab": {}
      },
      "source": [
        "df_week2=df_week.melt('week_number', var_name='a', value_name='activity per user per week')"
      ],
      "execution_count": 164,
      "outputs": []
    },
    {
      "cell_type": "code",
      "metadata": {
        "id": "s4fXGL8KiVlw",
        "colab_type": "code",
        "colab": {
          "base_uri": "https://localhost:8080/",
          "height": 534
        },
        "outputId": "701b0eb5-c341-4add-8737-c4dad235bace"
      },
      "source": [
        "fig, ax1 = plt.subplots(figsize=(12,8))\n",
        "sns.barplot(x='week_number', y='activity per user per week', data=df_week2, hue='a',ax=ax1)\n",
        "plt.title('detail engaged activity per user per week')\n",
        "plt.show()"
      ],
      "execution_count": 165,
      "outputs": [
        {
          "output_type": "display_data",
          "data": {
            "image/png": "[encoded data removed]",
            "text/plain": [
              "<Figure size 864x576 with 1 Axes>"
            ]
          },
          "metadata": {
            "tags": [],
            "needs_background": "light"
          }
        }
      ]
    },
    {
      "cell_type": "code",
      "metadata": {
        "id": "InmXi6gtlxAc",
        "colab_type": "code",
        "colab": {}
      },
      "source": [
        "## projects_added per user per weekday\n",
        "projects_wk_day=pd.DataFrame(data.groupby('day_of_week')['session_projects_added'].sum()/data.groupby('day_of_week')['customer_id'].nunique())\n",
        "projects_wk_day.columns=['projects_added per user per weekday']\n",
        "projects_wk_day.reset_index(inplace=True)"
      ],
      "execution_count": 166,
      "outputs": []
    },
    {
      "cell_type": "code",
      "metadata": {
        "id": "y34nu6vgmT-6",
        "colab_type": "code",
        "colab": {}
      },
      "source": [
        "## likes_given per user per weekday\n",
        "likes_wk_day=pd.DataFrame(data.groupby('day_of_week')['session_likes_given'].sum()/data.groupby('day_of_week')['customer_id'].nunique())\n",
        "likes_wk_day.columns=['likes_given per user per weekday']\n",
        "likes_wk_day.reset_index(inplace=True)"
      ],
      "execution_count": 167,
      "outputs": []
    },
    {
      "cell_type": "code",
      "metadata": {
        "id": "xEZp9hBXmtCh",
        "colab_type": "code",
        "colab": {}
      },
      "source": [
        "## comments_given per user per weekday\n",
        "comments_wk_day=pd.DataFrame(data.groupby('day_of_week')['session_comments_given'].sum()/data.groupby('day_of_week')['customer_id'].nunique())\n",
        "comments_wk_day.columns=['comments_given per user per weekday']\n",
        "comments_wk_day.reset_index(inplace=True)"
      ],
      "execution_count": 168,
      "outputs": []
    },
    {
      "cell_type": "code",
      "metadata": {
        "id": "MjOS8vIjO8ej",
        "colab_type": "code",
        "colab": {}
      },
      "source": [
        "df = pd.merge(projects_wk_day, likes_wk_day,on='day_of_week')\n",
        "df = pd.merge(df,comments_wk_day,on='day_of_week')"
      ],
      "execution_count": 169,
      "outputs": []
    },
    {
      "cell_type": "code",
      "metadata": {
        "id": "Gu9yZZ5FXBy_",
        "colab_type": "code",
        "colab": {}
      },
      "source": [
        "df2 = df.melt('day_of_week', var_name='a', value_name='activity per user per weekday')"
      ],
      "execution_count": 170,
      "outputs": []
    },
    {
      "cell_type": "code",
      "metadata": {
        "id": "jfdAyVMRZRhv",
        "colab_type": "code",
        "colab": {
          "base_uri": "https://localhost:8080/",
          "height": 534
        },
        "outputId": "7ad07b86-5b87-41ab-84d1-d12ff8cf799a"
      },
      "source": [
        "fig, ax1 = plt.subplots(figsize=(12,8))\n",
        "sns.barplot(x='day_of_week', y='activity per user per weekday', data=df2, hue='a',ax=ax1)\n",
        "plt.title('detail engaged activity per user per day-of-week')\n",
        "plt.show()"
      ],
      "execution_count": 171,
      "outputs": [
        {
          "output_type": "display_data",
          "data": {
            "image/png": "[encoded data removed]",
            "text/plain": [
              "<Figure size 864x576 with 1 Axes>"
            ]
          },
          "metadata": {
            "tags": [],
            "needs_background": "light"
          }
        }
      ]
    },
    {
      "cell_type": "code",
      "metadata": {
        "id": "Ik72psFD0uhV",
        "colab_type": "code",
        "colab": {}
      },
      "source": [
        "## engaged user analysis"
      ],
      "execution_count": 172,
      "outputs": []
    },
    {
      "cell_type": "code",
      "metadata": {
        "id": "fYghHHdN1s5c",
        "colab_type": "code",
        "colab": {
          "base_uri": "https://localhost:8080/",
          "height": 352
        },
        "outputId": "c5753784-145a-42c4-c465-94da23987bae"
      },
      "source": [
        "data.groupby('login_date')['customer_id'].count().plot.line()"
      ],
      "execution_count": 173,
      "outputs": [
        {
          "output_type": "execute_result",
          "data": {
            "text/plain": [
              "<matplotlib.axes._subplots.AxesSubplot at 0x7fe7d20485f8>"
            ]
          },
          "metadata": {
            "tags": []
          },
          "execution_count": 173
        },
        {
          "output_type": "display_data",
          "data": {
            "image/png": "[encoded data removed]",
            "text/plain": [
              "<Figure size 432x288 with 1 Axes>"
            ]
          },
          "metadata": {
            "tags": [],
            "needs_background": "light"
          }
        }
      ]
    },
    {
      "cell_type": "code",
      "metadata": {
        "id": "ePbFGEkY5PA1",
        "colab_type": "code",
        "colab": {}
      },
      "source": [
        "user_week=data.groupby('week_number')['customer_id'].nunique().to_frame()\n",
        "user_week.columns=['distinct_user_cnt']\n",
        "user_week.reset_index(inplace=True)"
      ],
      "execution_count": 174,
      "outputs": []
    },
    {
      "cell_type": "code",
      "metadata": {
        "id": "cNmx34rx8VJb",
        "colab_type": "code",
        "colab": {
          "base_uri": "https://localhost:8080/",
          "height": 301
        },
        "outputId": "4920580e-2cc9-4950-d855-58c6c3a495c8"
      },
      "source": [
        "plt.scatter(x=user_week['distinct_user_cnt'],y=total_act_week['total_activity per user per week'])\n",
        "plt.title('relation between user number and activities per user')\n",
        "plt.show()"
      ],
      "execution_count": 175,
      "outputs": [
        {
          "output_type": "display_data",
          "data": {
            "image/png": "[encoded data removed]",
            "text/plain": [
              "<Figure size 432x288 with 1 Axes>"
            ]
          },
          "metadata": {
            "tags": [],
            "needs_background": "light"
          }
        }
      ]
    },
    {
      "cell_type": "code",
      "metadata": {
        "id": "6zke5D1u9bx-",
        "colab_type": "code",
        "colab": {
          "base_uri": "https://localhost:8080/",
          "height": 228
        },
        "outputId": "341e3245-3f2a-403b-aa73-ef45411d9816"
      },
      "source": [
        "user_week"
      ],
      "execution_count": 176,
      "outputs": [
        {
          "output_type": "execute_result",
          "data": {
            "text/html": [
              "<div>\n",
              "<style scoped>\n",
              "    .dataframe tbody tr th:only-of-type {\n",
              "        vertical-align: middle;\n",
              "    }\n",
              "\n",
              "    .dataframe tbody tr th {\n",
              "        vertical-align: top;\n",
              "    }\n",
              "\n",
              "    .dataframe thead th {\n",
              "        text-align: right;\n",
              "    }\n",
              "</style>\n",
              "<table border=\"1\" class=\"dataframe\">\n",
              "  <thead>\n",
              "    <tr style=\"text-align: right;\">\n",
              "      <th></th>\n",
              "      <th>week_number</th>\n",
              "      <th>distinct_user_cnt</th>\n",
              "    </tr>\n",
              "  </thead>\n",
              "  <tbody>\n",
              "    <tr>\n",
              "      <th>0</th>\n",
              "      <td>40</td>\n",
              "      <td>29</td>\n",
              "    </tr>\n",
              "    <tr>\n",
              "      <th>1</th>\n",
              "      <td>41</td>\n",
              "      <td>29</td>\n",
              "    </tr>\n",
              "    <tr>\n",
              "      <th>2</th>\n",
              "      <td>42</td>\n",
              "      <td>31</td>\n",
              "    </tr>\n",
              "    <tr>\n",
              "      <th>3</th>\n",
              "      <td>43</td>\n",
              "      <td>26</td>\n",
              "    </tr>\n",
              "    <tr>\n",
              "      <th>4</th>\n",
              "      <td>44</td>\n",
              "      <td>21</td>\n",
              "    </tr>\n",
              "  </tbody>\n",
              "</table>\n",
              "</div>"
            ],
            "text/plain": [
              "   week_number  distinct_user_cnt\n",
              "0           40                 29\n",
              "1           41                 29\n",
              "2           42                 31\n",
              "3           43                 26\n",
              "4           44                 21"
            ]
          },
          "metadata": {
            "tags": []
          },
          "execution_count": 176
        }
      ]
    },
    {
      "cell_type": "code",
      "metadata": {
        "id": "sUuGpD6F90Tb",
        "colab_type": "code",
        "colab": {
          "base_uri": "https://localhost:8080/",
          "height": 228
        },
        "outputId": "bbcb0f36-274b-4cbb-936e-37309d0b96c6"
      },
      "source": [
        "total_act_week"
      ],
      "execution_count": 177,
      "outputs": [
        {
          "output_type": "execute_result",
          "data": {
            "text/html": [
              "<div>\n",
              "<style scoped>\n",
              "    .dataframe tbody tr th:only-of-type {\n",
              "        vertical-align: middle;\n",
              "    }\n",
              "\n",
              "    .dataframe tbody tr th {\n",
              "        vertical-align: top;\n",
              "    }\n",
              "\n",
              "    .dataframe thead th {\n",
              "        text-align: right;\n",
              "    }\n",
              "</style>\n",
              "<table border=\"1\" class=\"dataframe\">\n",
              "  <thead>\n",
              "    <tr style=\"text-align: right;\">\n",
              "      <th></th>\n",
              "      <th>week_number</th>\n",
              "      <th>total_activity per user per week</th>\n",
              "    </tr>\n",
              "  </thead>\n",
              "  <tbody>\n",
              "    <tr>\n",
              "      <th>0</th>\n",
              "      <td>40</td>\n",
              "      <td>26.965517</td>\n",
              "    </tr>\n",
              "    <tr>\n",
              "      <th>1</th>\n",
              "      <td>41</td>\n",
              "      <td>32.965517</td>\n",
              "    </tr>\n",
              "    <tr>\n",
              "      <th>2</th>\n",
              "      <td>42</td>\n",
              "      <td>23.322581</td>\n",
              "    </tr>\n",
              "    <tr>\n",
              "      <th>3</th>\n",
              "      <td>43</td>\n",
              "      <td>44.269231</td>\n",
              "    </tr>\n",
              "    <tr>\n",
              "      <th>4</th>\n",
              "      <td>44</td>\n",
              "      <td>22.095238</td>\n",
              "    </tr>\n",
              "  </tbody>\n",
              "</table>\n",
              "</div>"
            ],
            "text/plain": [
              "   week_number  total_activity per user per week\n",
              "0           40                         26.965517\n",
              "1           41                         32.965517\n",
              "2           42                         23.322581\n",
              "3           43                         44.269231\n",
              "4           44                         22.095238"
            ]
          },
          "metadata": {
            "tags": []
          },
          "execution_count": 177
        }
      ]
    }
  ]
}